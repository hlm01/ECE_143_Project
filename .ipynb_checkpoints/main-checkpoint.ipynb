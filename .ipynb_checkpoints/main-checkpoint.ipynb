{
 "cells": [
  {
   "cell_type": "code",
   "execution_count": 2,
   "metadata": {},
   "outputs": [],
   "source": [
    "import polars as pl\n",
    "import seaborn as sns\n",
    "import matplotlib.pyplot as plt\n",
    "import pyarrow as pa\n",
    "import numpy as np\n",
    "import pandas as pd"
   ]
  },
  {
   "cell_type": "code",
   "execution_count": 3,
   "metadata": {},
   "outputs": [
    {
     "name": "stdout",
     "output_type": "stream",
     "text": [
      "(79672, 41)\n"
     ]
    },
    {
     "data": {
      "text/html": [
       "<div><style>\n",
       ".dataframe > thead > tr,\n",
       ".dataframe > tbody > tr {\n",
       "  text-align: right;\n",
       "  white-space: pre-wrap;\n",
       "}\n",
       "</style>\n",
       "<small>shape: (5, 41)</small><table border=\"1\" class=\"dataframe\"><thead><tr><th>age_upon_outcome</th><th>animal_id_outcome</th><th>date_of_birth</th><th>outcome_subtype</th><th>outcome_type</th><th>sex_upon_outcome</th><th>age_upon_outcome_(days)</th><th>age_upon_outcome_(years)</th><th>age_upon_outcome_age_group</th><th>outcome_datetime</th><th>outcome_month</th><th>outcome_year</th><th>outcome_monthyear</th><th>outcome_weekday</th><th>outcome_hour</th><th>outcome_number</th><th>dob_year</th><th>dob_month</th><th>dob_monthyear</th><th>age_upon_intake</th><th>animal_id_intake</th><th>animal_type</th><th>breed</th><th>color</th><th>found_location</th><th>intake_condition</th><th>intake_type</th><th>sex_upon_intake</th><th>count</th><th>age_upon_intake_(days)</th><th>age_upon_intake_(years)</th><th>age_upon_intake_age_group</th><th>intake_datetime</th><th>intake_month</th><th>intake_year</th><th>intake_monthyear</th><th>intake_weekday</th><th>intake_hour</th><th>intake_number</th><th>time_in_shelter</th><th>time_in_shelter_days</th></tr><tr><td>str</td><td>str</td><td>str</td><td>str</td><td>str</td><td>str</td><td>i64</td><td>f64</td><td>str</td><td>str</td><td>i64</td><td>i64</td><td>str</td><td>str</td><td>i64</td><td>f64</td><td>i64</td><td>i64</td><td>str</td><td>str</td><td>str</td><td>str</td><td>str</td><td>str</td><td>str</td><td>str</td><td>str</td><td>str</td><td>i64</td><td>i64</td><td>f64</td><td>str</td><td>str</td><td>i64</td><td>i64</td><td>str</td><td>str</td><td>i64</td><td>f64</td><td>str</td><td>f64</td></tr></thead><tbody><tr><td>&quot;10 years&quot;</td><td>&quot;A006100&quot;</td><td>&quot;2007-07-09 00:00:00&quot;</td><td>null</td><td>&quot;Return to Owner&quot;</td><td>&quot;Neutered Male&quot;</td><td>3650</td><td>10.0</td><td>&quot;(7.5, 10.0]&quot;</td><td>&quot;2017-12-07 14:07:00&quot;</td><td>12</td><td>2017</td><td>&quot;2017-12&quot;</td><td>&quot;Thursday&quot;</td><td>0</td><td>1.0</td><td>2007</td><td>7</td><td>&quot;2017-12&quot;</td><td>&quot;10 years&quot;</td><td>&quot;A006100&quot;</td><td>&quot;Dog&quot;</td><td>&quot;Spinone Italiano Mix&quot;</td><td>&quot;Yellow/White&quot;</td><td>&quot;Colony Creek And Hunters Trace…</td><td>&quot;Normal&quot;</td><td>&quot;Stray&quot;</td><td>&quot;Neutered Male&quot;</td><td>1</td><td>3650</td><td>10.0</td><td>&quot;(7.5, 10.0]&quot;</td><td>&quot;2017-12-07 00:00:00&quot;</td><td>12</td><td>2017</td><td>&quot;2017-12&quot;</td><td>&quot;Thursday&quot;</td><td>14</td><td>1.0</td><td>&quot;0 days 14:07:00.000000000&quot;</td><td>0.588194</td></tr><tr><td>&quot;7 years&quot;</td><td>&quot;A006100&quot;</td><td>&quot;2007-07-09 00:00:00&quot;</td><td>null</td><td>&quot;Return to Owner&quot;</td><td>&quot;Neutered Male&quot;</td><td>2555</td><td>7.0</td><td>&quot;(5.0, 7.5]&quot;</td><td>&quot;2014-12-20 16:35:00&quot;</td><td>12</td><td>2014</td><td>&quot;2014-12&quot;</td><td>&quot;Saturday&quot;</td><td>16</td><td>2.0</td><td>2007</td><td>7</td><td>&quot;2014-12&quot;</td><td>&quot;7 years&quot;</td><td>&quot;A006100&quot;</td><td>&quot;Dog&quot;</td><td>&quot;Spinone Italiano Mix&quot;</td><td>&quot;Yellow/White&quot;</td><td>&quot;8700 Research Blvd in Austin (…</td><td>&quot;Normal&quot;</td><td>&quot;Public Assist&quot;</td><td>&quot;Neutered Male&quot;</td><td>1</td><td>2555</td><td>7.0</td><td>&quot;(5.0, 7.5]&quot;</td><td>&quot;2014-12-19 10:21:00&quot;</td><td>12</td><td>2014</td><td>&quot;2014-12&quot;</td><td>&quot;Friday&quot;</td><td>10</td><td>2.0</td><td>&quot;1 days 06:14:00.000000000&quot;</td><td>1.259722</td></tr><tr><td>&quot;6 years&quot;</td><td>&quot;A006100&quot;</td><td>&quot;2007-07-09 00:00:00&quot;</td><td>null</td><td>&quot;Return to Owner&quot;</td><td>&quot;Neutered Male&quot;</td><td>2190</td><td>6.0</td><td>&quot;(5.0, 7.5]&quot;</td><td>&quot;2014-03-08 17:10:00&quot;</td><td>3</td><td>2014</td><td>&quot;2014-03&quot;</td><td>&quot;Saturday&quot;</td><td>17</td><td>3.0</td><td>2007</td><td>7</td><td>&quot;2014-03&quot;</td><td>&quot;6 years&quot;</td><td>&quot;A006100&quot;</td><td>&quot;Dog&quot;</td><td>&quot;Spinone Italiano Mix&quot;</td><td>&quot;Yellow/White&quot;</td><td>&quot;8700 Research in Austin (TX)&quot;</td><td>&quot;Normal&quot;</td><td>&quot;Public Assist&quot;</td><td>&quot;Neutered Male&quot;</td><td>1</td><td>2190</td><td>6.0</td><td>&quot;(5.0, 7.5]&quot;</td><td>&quot;2014-03-07 14:26:00&quot;</td><td>3</td><td>2014</td><td>&quot;2014-03&quot;</td><td>&quot;Friday&quot;</td><td>14</td><td>3.0</td><td>&quot;1 days 02:44:00.000000000&quot;</td><td>1.113889</td></tr><tr><td>&quot;10 years&quot;</td><td>&quot;A047759&quot;</td><td>&quot;2004-04-02 00:00:00&quot;</td><td>&quot;Partner&quot;</td><td>&quot;Transfer&quot;</td><td>&quot;Neutered Male&quot;</td><td>3650</td><td>10.0</td><td>&quot;(7.5, 10.0]&quot;</td><td>&quot;2014-04-07 15:12:00&quot;</td><td>4</td><td>2014</td><td>&quot;2014-04&quot;</td><td>&quot;Monday&quot;</td><td>15</td><td>1.0</td><td>2004</td><td>4</td><td>&quot;2014-04&quot;</td><td>&quot;10 years&quot;</td><td>&quot;A047759&quot;</td><td>&quot;Dog&quot;</td><td>&quot;Dachshund&quot;</td><td>&quot;Tricolor&quot;</td><td>&quot;Austin (TX)&quot;</td><td>&quot;Normal&quot;</td><td>&quot;Owner Surrender&quot;</td><td>&quot;Neutered Male&quot;</td><td>1</td><td>3650</td><td>10.0</td><td>&quot;(7.5, 10.0]&quot;</td><td>&quot;2014-04-02 15:55:00&quot;</td><td>4</td><td>2014</td><td>&quot;2014-04&quot;</td><td>&quot;Wednesday&quot;</td><td>15</td><td>1.0</td><td>&quot;4 days 23:17:00.000000000&quot;</td><td>4.970139</td></tr><tr><td>&quot;16 years&quot;</td><td>&quot;A134067&quot;</td><td>&quot;1997-10-16 00:00:00&quot;</td><td>null</td><td>&quot;Return to Owner&quot;</td><td>&quot;Neutered Male&quot;</td><td>5840</td><td>16.0</td><td>&quot;(15.0, 17.5]&quot;</td><td>&quot;2013-11-16 11:54:00&quot;</td><td>11</td><td>2013</td><td>&quot;2013-11&quot;</td><td>&quot;Saturday&quot;</td><td>11</td><td>1.0</td><td>1997</td><td>10</td><td>&quot;2013-11&quot;</td><td>&quot;16 years&quot;</td><td>&quot;A134067&quot;</td><td>&quot;Dog&quot;</td><td>&quot;Shetland Sheepdog&quot;</td><td>&quot;Brown/White&quot;</td><td>&quot;12034 Research Blvd in Austin …</td><td>&quot;Injured&quot;</td><td>&quot;Public Assist&quot;</td><td>&quot;Neutered Male&quot;</td><td>1</td><td>5840</td><td>16.0</td><td>&quot;(15.0, 17.5]&quot;</td><td>&quot;2013-11-16 09:02:00&quot;</td><td>11</td><td>2013</td><td>&quot;2013-11&quot;</td><td>&quot;Saturday&quot;</td><td>9</td><td>1.0</td><td>&quot;0 days 02:52:00.000000000&quot;</td><td>0.119444</td></tr></tbody></table></div>"
      ],
      "text/plain": [
       "shape: (5, 41)\n",
       "┌───────────┬───────────┬───────────┬───────────┬───┬───────────┬───────────┬───────────┬──────────┐\n",
       "│ age_upon_ ┆ animal_id ┆ date_of_b ┆ outcome_s ┆ … ┆ intake_ho ┆ intake_nu ┆ time_in_s ┆ time_in_ │\n",
       "│ outcome   ┆ _outcome  ┆ irth      ┆ ubtype    ┆   ┆ ur        ┆ mber      ┆ helter    ┆ shelter_ │\n",
       "│ ---       ┆ ---       ┆ ---       ┆ ---       ┆   ┆ ---       ┆ ---       ┆ ---       ┆ days     │\n",
       "│ str       ┆ str       ┆ str       ┆ str       ┆   ┆ i64       ┆ f64       ┆ str       ┆ ---      │\n",
       "│           ┆           ┆           ┆           ┆   ┆           ┆           ┆           ┆ f64      │\n",
       "╞═══════════╪═══════════╪═══════════╪═══════════╪═══╪═══════════╪═══════════╪═══════════╪══════════╡\n",
       "│ 10 years  ┆ A006100   ┆ 2007-07-0 ┆ null      ┆ … ┆ 14        ┆ 1.0       ┆ 0 days    ┆ 0.588194 │\n",
       "│           ┆           ┆ 9         ┆           ┆   ┆           ┆           ┆ 14:07:00. ┆          │\n",
       "│           ┆           ┆ 00:00:00  ┆           ┆   ┆           ┆           ┆ 000000000 ┆          │\n",
       "│ 7 years   ┆ A006100   ┆ 2007-07-0 ┆ null      ┆ … ┆ 10        ┆ 2.0       ┆ 1 days    ┆ 1.259722 │\n",
       "│           ┆           ┆ 9         ┆           ┆   ┆           ┆           ┆ 06:14:00. ┆          │\n",
       "│           ┆           ┆ 00:00:00  ┆           ┆   ┆           ┆           ┆ 000000000 ┆          │\n",
       "│ 6 years   ┆ A006100   ┆ 2007-07-0 ┆ null      ┆ … ┆ 14        ┆ 3.0       ┆ 1 days    ┆ 1.113889 │\n",
       "│           ┆           ┆ 9         ┆           ┆   ┆           ┆           ┆ 02:44:00. ┆          │\n",
       "│           ┆           ┆ 00:00:00  ┆           ┆   ┆           ┆           ┆ 000000000 ┆          │\n",
       "│ 10 years  ┆ A047759   ┆ 2004-04-0 ┆ Partner   ┆ … ┆ 15        ┆ 1.0       ┆ 4 days    ┆ 4.970139 │\n",
       "│           ┆           ┆ 2         ┆           ┆   ┆           ┆           ┆ 23:17:00. ┆          │\n",
       "│           ┆           ┆ 00:00:00  ┆           ┆   ┆           ┆           ┆ 000000000 ┆          │\n",
       "│ 16 years  ┆ A134067   ┆ 1997-10-1 ┆ null      ┆ … ┆ 9         ┆ 1.0       ┆ 0 days    ┆ 0.119444 │\n",
       "│           ┆           ┆ 6         ┆           ┆   ┆           ┆           ┆ 02:52:00. ┆          │\n",
       "│           ┆           ┆ 00:00:00  ┆           ┆   ┆           ┆           ┆ 000000000 ┆          │\n",
       "└───────────┴───────────┴───────────┴───────────┴───┴───────────┴───────────┴───────────┴──────────┘"
      ]
     },
     "execution_count": 3,
     "metadata": {},
     "output_type": "execute_result"
    }
   ],
   "source": [
    "df = pl.read_csv(\"aac_intakes_outcomes.csv\")\n",
    "\n",
    "print(df.shape)\n",
    "df.head()\n"
   ]
  },
  {
   "cell_type": "code",
   "execution_count": 4,
   "metadata": {},
   "outputs": [
    {
     "data": {
      "text/html": [
       "<div><style>\n",
       ".dataframe > thead > tr,\n",
       ".dataframe > tbody > tr {\n",
       "  text-align: right;\n",
       "  white-space: pre-wrap;\n",
       "}\n",
       "</style>\n",
       "<small>shape: (1, 41)</small><table border=\"1\" class=\"dataframe\"><thead><tr><th>age_upon_outcome</th><th>animal_id_outcome</th><th>date_of_birth</th><th>outcome_subtype</th><th>outcome_type</th><th>sex_upon_outcome</th><th>age_upon_outcome_(days)</th><th>age_upon_outcome_(years)</th><th>age_upon_outcome_age_group</th><th>outcome_datetime</th><th>outcome_month</th><th>outcome_year</th><th>outcome_monthyear</th><th>outcome_weekday</th><th>outcome_hour</th><th>outcome_number</th><th>dob_year</th><th>dob_month</th><th>dob_monthyear</th><th>age_upon_intake</th><th>animal_id_intake</th><th>animal_type</th><th>breed</th><th>color</th><th>found_location</th><th>intake_condition</th><th>intake_type</th><th>sex_upon_intake</th><th>count</th><th>age_upon_intake_(days)</th><th>age_upon_intake_(years)</th><th>age_upon_intake_age_group</th><th>intake_datetime</th><th>intake_month</th><th>intake_year</th><th>intake_monthyear</th><th>intake_weekday</th><th>intake_hour</th><th>intake_number</th><th>time_in_shelter</th><th>time_in_shelter_days</th></tr><tr><td>u32</td><td>u32</td><td>u32</td><td>u32</td><td>u32</td><td>u32</td><td>u32</td><td>u32</td><td>u32</td><td>u32</td><td>u32</td><td>u32</td><td>u32</td><td>u32</td><td>u32</td><td>u32</td><td>u32</td><td>u32</td><td>u32</td><td>u32</td><td>u32</td><td>u32</td><td>u32</td><td>u32</td><td>u32</td><td>u32</td><td>u32</td><td>u32</td><td>u32</td><td>u32</td><td>u32</td><td>u32</td><td>u32</td><td>u32</td><td>u32</td><td>u32</td><td>u32</td><td>u32</td><td>u32</td><td>u32</td><td>u32</td></tr></thead><tbody><tr><td>0</td><td>0</td><td>0</td><td>43324</td><td>10</td><td>0</td><td>0</td><td>0</td><td>0</td><td>0</td><td>0</td><td>0</td><td>0</td><td>0</td><td>0</td><td>0</td><td>0</td><td>0</td><td>0</td><td>0</td><td>0</td><td>0</td><td>0</td><td>0</td><td>0</td><td>0</td><td>0</td><td>1</td><td>0</td><td>0</td><td>0</td><td>0</td><td>0</td><td>0</td><td>0</td><td>0</td><td>0</td><td>0</td><td>0</td><td>0</td><td>0</td></tr></tbody></table></div>"
      ],
      "text/plain": [
       "shape: (1, 41)\n",
       "┌───────────┬───────────┬───────────┬───────────┬───┬───────────┬───────────┬───────────┬──────────┐\n",
       "│ age_upon_ ┆ animal_id ┆ date_of_b ┆ outcome_s ┆ … ┆ intake_ho ┆ intake_nu ┆ time_in_s ┆ time_in_ │\n",
       "│ outcome   ┆ _outcome  ┆ irth      ┆ ubtype    ┆   ┆ ur        ┆ mber      ┆ helter    ┆ shelter_ │\n",
       "│ ---       ┆ ---       ┆ ---       ┆ ---       ┆   ┆ ---       ┆ ---       ┆ ---       ┆ days     │\n",
       "│ u32       ┆ u32       ┆ u32       ┆ u32       ┆   ┆ u32       ┆ u32       ┆ u32       ┆ ---      │\n",
       "│           ┆           ┆           ┆           ┆   ┆           ┆           ┆           ┆ u32      │\n",
       "╞═══════════╪═══════════╪═══════════╪═══════════╪═══╪═══════════╪═══════════╪═══════════╪══════════╡\n",
       "│ 0         ┆ 0         ┆ 0         ┆ 43324     ┆ … ┆ 0         ┆ 0         ┆ 0         ┆ 0        │\n",
       "└───────────┴───────────┴───────────┴───────────┴───┴───────────┴───────────┴───────────┴──────────┘"
      ]
     },
     "execution_count": 4,
     "metadata": {},
     "output_type": "execute_result"
    }
   ],
   "source": [
    "df.null_count()"
   ]
  },
  {
   "cell_type": "code",
   "execution_count": 5,
   "metadata": {},
   "outputs": [],
   "source": [
    "# drop rows with null outcomes and sex\n",
    "df = df.drop_nulls(subset=[\"outcome_type\", \"sex_upon_intake\"])"
   ]
  },
  {
   "cell_type": "code",
   "execution_count": 6,
   "metadata": {},
   "outputs": [],
   "source": [
    "# dropping columns with redundant information, keeping days for all time columns\n",
    "df = df.drop(\n",
    "    [\n",
    "        \"age_upon_outcome\",\n",
    "        \"age_upon_outcome_(days)\",\n",
    "        \"age_upon_outcome_age_group\",\n",
    "        \"outcome_month\",\n",
    "        \"outcome_monthyear\",\n",
    "        \"outcome_weekday\",\n",
    "        \"outcome_hour\",\n",
    "        \"dob_year\",\n",
    "        \"dob_monthyear\",\n",
    "        \"age_upon_intake\",\n",
    "        \"age_upon_intake_(days)\",\n",
    "        \"age_upon_intake_age_group\",\n",
    "        \"intake_month\",\n",
    "        \"intake_monthyear\",\n",
    "        \"intake_weekday\",\n",
    "        \"intake_hour\",\n",
    "        \"time_in_shelter\",\n",
    "    ]\n",
    ")\n",
    "\n",
    "# convert date columns to datetime type\n",
    "df = df.with_columns(\n",
    "    pl.col(\"date_of_birth\").str.to_datetime(),\n",
    "    pl.col(\"outcome_datetime\").str.to_datetime(),\n",
    "    pl.col(\"intake_datetime\").str.to_datetime(),\n",
    ")\n",
    "\n"
   ]
  },
  {
   "cell_type": "code",
   "execution_count": 7,
   "metadata": {},
   "outputs": [
    {
     "data": {
      "text/html": [
       "<div><style>\n",
       ".dataframe > thead > tr,\n",
       ".dataframe > tbody > tr {\n",
       "  text-align: right;\n",
       "  white-space: pre-wrap;\n",
       "}\n",
       "</style>\n",
       "<small>shape: (30, 24)</small><table border=\"1\" class=\"dataframe\"><thead><tr><th>animal_id_outcome</th><th>date_of_birth</th><th>outcome_subtype</th><th>outcome_type</th><th>sex_upon_outcome</th><th>age_upon_outcome_(years)</th><th>outcome_datetime</th><th>outcome_year</th><th>outcome_number</th><th>dob_month</th><th>animal_id_intake</th><th>animal_type</th><th>breed</th><th>color</th><th>found_location</th><th>intake_condition</th><th>intake_type</th><th>sex_upon_intake</th><th>count</th><th>age_upon_intake_(years)</th><th>intake_datetime</th><th>intake_year</th><th>intake_number</th><th>time_in_shelter_days</th></tr><tr><td>str</td><td>datetime[μs]</td><td>str</td><td>str</td><td>str</td><td>f64</td><td>datetime[μs]</td><td>i64</td><td>f64</td><td>i64</td><td>str</td><td>str</td><td>str</td><td>str</td><td>str</td><td>str</td><td>str</td><td>str</td><td>i64</td><td>f64</td><td>datetime[μs]</td><td>i64</td><td>f64</td><td>f64</td></tr></thead><tbody><tr><td>&quot;A006100&quot;</td><td>2007-07-09 00:00:00</td><td>null</td><td>&quot;Return to Owner&quot;</td><td>&quot;Neutered Male&quot;</td><td>10.0</td><td>2017-12-07 14:07:00</td><td>2017</td><td>1.0</td><td>7</td><td>&quot;A006100&quot;</td><td>&quot;Dog&quot;</td><td>&quot;Spinone Italiano Mix&quot;</td><td>&quot;Yellow/White&quot;</td><td>&quot;Colony Creek And Hunters Trace…</td><td>&quot;Normal&quot;</td><td>&quot;Stray&quot;</td><td>&quot;Neutered Male&quot;</td><td>1</td><td>10.0</td><td>2017-12-07 00:00:00</td><td>2017</td><td>1.0</td><td>0.588194</td></tr><tr><td>&quot;A006100&quot;</td><td>2007-07-09 00:00:00</td><td>null</td><td>&quot;Return to Owner&quot;</td><td>&quot;Neutered Male&quot;</td><td>7.0</td><td>2014-12-20 16:35:00</td><td>2014</td><td>2.0</td><td>7</td><td>&quot;A006100&quot;</td><td>&quot;Dog&quot;</td><td>&quot;Spinone Italiano Mix&quot;</td><td>&quot;Yellow/White&quot;</td><td>&quot;8700 Research Blvd in Austin (…</td><td>&quot;Normal&quot;</td><td>&quot;Public Assist&quot;</td><td>&quot;Neutered Male&quot;</td><td>1</td><td>7.0</td><td>2014-12-19 10:21:00</td><td>2014</td><td>2.0</td><td>1.259722</td></tr><tr><td>&quot;A006100&quot;</td><td>2007-07-09 00:00:00</td><td>null</td><td>&quot;Return to Owner&quot;</td><td>&quot;Neutered Male&quot;</td><td>6.0</td><td>2014-03-08 17:10:00</td><td>2014</td><td>3.0</td><td>7</td><td>&quot;A006100&quot;</td><td>&quot;Dog&quot;</td><td>&quot;Spinone Italiano Mix&quot;</td><td>&quot;Yellow/White&quot;</td><td>&quot;8700 Research in Austin (TX)&quot;</td><td>&quot;Normal&quot;</td><td>&quot;Public Assist&quot;</td><td>&quot;Neutered Male&quot;</td><td>1</td><td>6.0</td><td>2014-03-07 14:26:00</td><td>2014</td><td>3.0</td><td>1.113889</td></tr><tr><td>&quot;A047759&quot;</td><td>2004-04-02 00:00:00</td><td>&quot;Partner&quot;</td><td>&quot;Transfer&quot;</td><td>&quot;Neutered Male&quot;</td><td>10.0</td><td>2014-04-07 15:12:00</td><td>2014</td><td>1.0</td><td>4</td><td>&quot;A047759&quot;</td><td>&quot;Dog&quot;</td><td>&quot;Dachshund&quot;</td><td>&quot;Tricolor&quot;</td><td>&quot;Austin (TX)&quot;</td><td>&quot;Normal&quot;</td><td>&quot;Owner Surrender&quot;</td><td>&quot;Neutered Male&quot;</td><td>1</td><td>10.0</td><td>2014-04-02 15:55:00</td><td>2014</td><td>1.0</td><td>4.970139</td></tr><tr><td>&quot;A134067&quot;</td><td>1997-10-16 00:00:00</td><td>null</td><td>&quot;Return to Owner&quot;</td><td>&quot;Neutered Male&quot;</td><td>16.0</td><td>2013-11-16 11:54:00</td><td>2013</td><td>1.0</td><td>10</td><td>&quot;A134067&quot;</td><td>&quot;Dog&quot;</td><td>&quot;Shetland Sheepdog&quot;</td><td>&quot;Brown/White&quot;</td><td>&quot;12034 Research Blvd in Austin …</td><td>&quot;Injured&quot;</td><td>&quot;Public Assist&quot;</td><td>&quot;Neutered Male&quot;</td><td>1</td><td>16.0</td><td>2013-11-16 09:02:00</td><td>2013</td><td>1.0</td><td>0.119444</td></tr><tr><td>&hellip;</td><td>&hellip;</td><td>&hellip;</td><td>&hellip;</td><td>&hellip;</td><td>&hellip;</td><td>&hellip;</td><td>&hellip;</td><td>&hellip;</td><td>&hellip;</td><td>&hellip;</td><td>&hellip;</td><td>&hellip;</td><td>&hellip;</td><td>&hellip;</td><td>&hellip;</td><td>&hellip;</td><td>&hellip;</td><td>&hellip;</td><td>&hellip;</td><td>&hellip;</td><td>&hellip;</td><td>&hellip;</td><td>&hellip;</td></tr><tr><td>&quot;A233812&quot;</td><td>2001-06-08 00:00:00</td><td>null</td><td>&quot;Return to Owner&quot;</td><td>&quot;Neutered Male&quot;</td><td>13.0</td><td>2014-09-06 18:52:00</td><td>2014</td><td>1.0</td><td>6</td><td>&quot;A233812&quot;</td><td>&quot;Dog&quot;</td><td>&quot;Rottweiler/Chow Chow&quot;</td><td>&quot;Brown/Black&quot;</td><td>&quot;12317 Wycliff Ln in Austin (TX…</td><td>&quot;Aged&quot;</td><td>&quot;Stray&quot;</td><td>&quot;Neutered Male&quot;</td><td>1</td><td>13.0</td><td>2014-09-06 14:37:00</td><td>2014</td><td>1.0</td><td>0.177083</td></tr><tr><td>&quot;A234161&quot;</td><td>2001-03-26 00:00:00</td><td>null</td><td>&quot;Return to Owner&quot;</td><td>&quot;Neutered Male&quot;</td><td>12.0</td><td>2013-12-27 17:02:00</td><td>2013</td><td>1.0</td><td>3</td><td>&quot;A234161&quot;</td><td>&quot;Cat&quot;</td><td>&quot;Domestic Shorthair Mix&quot;</td><td>&quot;Black/White&quot;</td><td>&quot;1401 E Rundberg Ln in Austin (…</td><td>&quot;Normal&quot;</td><td>&quot;Stray&quot;</td><td>&quot;Neutered Male&quot;</td><td>1</td><td>12.0</td><td>2013-12-27 12:13:00</td><td>2013</td><td>1.0</td><td>0.200694</td></tr><tr><td>&quot;A236259&quot;</td><td>2001-07-10 00:00:00</td><td>null</td><td>&quot;Return to Owner&quot;</td><td>&quot;Neutered Male&quot;</td><td>13.0</td><td>2014-07-09 12:00:00</td><td>2014</td><td>1.0</td><td>7</td><td>&quot;A236259&quot;</td><td>&quot;Dog&quot;</td><td>&quot;Smooth Fox Terrier Mix&quot;</td><td>&quot;Black/Tricolor&quot;</td><td>&quot;Westgate &amp; Cameron Loop in Aus…</td><td>&quot;Normal&quot;</td><td>&quot;Stray&quot;</td><td>&quot;Neutered Male&quot;</td><td>1</td><td>12.0</td><td>2014-07-05 07:13:00</td><td>2014</td><td>1.0</td><td>4.199306</td></tr><tr><td>&quot;A238870&quot;</td><td>2001-05-24 00:00:00</td><td>&quot;Partner&quot;</td><td>&quot;Transfer&quot;</td><td>&quot;Neutered Male&quot;</td><td>15.0</td><td>2016-06-17 12:37:00</td><td>2016</td><td>1.0</td><td>5</td><td>&quot;A238870&quot;</td><td>&quot;Dog&quot;</td><td>&quot;Rat Terrier Mix&quot;</td><td>&quot;Gray/White&quot;</td><td>&quot;8411 Ganttcrest Dr in Austin (…</td><td>&quot;Normal&quot;</td><td>&quot;Stray&quot;</td><td>&quot;Neutered Male&quot;</td><td>1</td><td>15.0</td><td>2016-06-09 16:22:00</td><td>2016</td><td>1.0</td><td>7.84375</td></tr><tr><td>&quot;A243903&quot;</td><td>2000-07-12 00:00:00</td><td>null</td><td>&quot;Return to Owner&quot;</td><td>&quot;Neutered Male&quot;</td><td>13.0</td><td>2014-01-05 11:45:00</td><td>2014</td><td>1.0</td><td>7</td><td>&quot;A243903&quot;</td><td>&quot;Cat&quot;</td><td>&quot;Domestic Shorthair&quot;</td><td>&quot;Black/Black&quot;</td><td>&quot;50Th And Martin in Austin (TX)&quot;</td><td>&quot;Sick&quot;</td><td>&quot;Stray&quot;</td><td>&quot;Neutered Male&quot;</td><td>1</td><td>13.0</td><td>2013-12-31 16:26:00</td><td>2013</td><td>1.0</td><td>4.804861</td></tr></tbody></table></div>"
      ],
      "text/plain": [
       "shape: (30, 24)\n",
       "┌───────────┬───────────┬───────────┬───────────┬───┬───────────┬───────────┬───────────┬──────────┐\n",
       "│ animal_id ┆ date_of_b ┆ outcome_s ┆ outcome_t ┆ … ┆ intake_da ┆ intake_ye ┆ intake_nu ┆ time_in_ │\n",
       "│ _outcome  ┆ irth      ┆ ubtype    ┆ ype       ┆   ┆ tetime    ┆ ar        ┆ mber      ┆ shelter_ │\n",
       "│ ---       ┆ ---       ┆ ---       ┆ ---       ┆   ┆ ---       ┆ ---       ┆ ---       ┆ days     │\n",
       "│ str       ┆ datetime[ ┆ str       ┆ str       ┆   ┆ datetime[ ┆ i64       ┆ f64       ┆ ---      │\n",
       "│           ┆ μs]       ┆           ┆           ┆   ┆ μs]       ┆           ┆           ┆ f64      │\n",
       "╞═══════════╪═══════════╪═══════════╪═══════════╪═══╪═══════════╪═══════════╪═══════════╪══════════╡\n",
       "│ A006100   ┆ 2007-07-0 ┆ null      ┆ Return to ┆ … ┆ 2017-12-0 ┆ 2017      ┆ 1.0       ┆ 0.588194 │\n",
       "│           ┆ 9         ┆           ┆ Owner     ┆   ┆ 7         ┆           ┆           ┆          │\n",
       "│           ┆ 00:00:00  ┆           ┆           ┆   ┆ 00:00:00  ┆           ┆           ┆          │\n",
       "│ A006100   ┆ 2007-07-0 ┆ null      ┆ Return to ┆ … ┆ 2014-12-1 ┆ 2014      ┆ 2.0       ┆ 1.259722 │\n",
       "│           ┆ 9         ┆           ┆ Owner     ┆   ┆ 9         ┆           ┆           ┆          │\n",
       "│           ┆ 00:00:00  ┆           ┆           ┆   ┆ 10:21:00  ┆           ┆           ┆          │\n",
       "│ A006100   ┆ 2007-07-0 ┆ null      ┆ Return to ┆ … ┆ 2014-03-0 ┆ 2014      ┆ 3.0       ┆ 1.113889 │\n",
       "│           ┆ 9         ┆           ┆ Owner     ┆   ┆ 7         ┆           ┆           ┆          │\n",
       "│           ┆ 00:00:00  ┆           ┆           ┆   ┆ 14:26:00  ┆           ┆           ┆          │\n",
       "│ A047759   ┆ 2004-04-0 ┆ Partner   ┆ Transfer  ┆ … ┆ 2014-04-0 ┆ 2014      ┆ 1.0       ┆ 4.970139 │\n",
       "│           ┆ 2         ┆           ┆           ┆   ┆ 2         ┆           ┆           ┆          │\n",
       "│           ┆ 00:00:00  ┆           ┆           ┆   ┆ 15:55:00  ┆           ┆           ┆          │\n",
       "│ A134067   ┆ 1997-10-1 ┆ null      ┆ Return to ┆ … ┆ 2013-11-1 ┆ 2013      ┆ 1.0       ┆ 0.119444 │\n",
       "│           ┆ 6         ┆           ┆ Owner     ┆   ┆ 6         ┆           ┆           ┆          │\n",
       "│           ┆ 00:00:00  ┆           ┆           ┆   ┆ 09:02:00  ┆           ┆           ┆          │\n",
       "│ …         ┆ …         ┆ …         ┆ …         ┆ … ┆ …         ┆ …         ┆ …         ┆ …        │\n",
       "│ A233812   ┆ 2001-06-0 ┆ null      ┆ Return to ┆ … ┆ 2014-09-0 ┆ 2014      ┆ 1.0       ┆ 0.177083 │\n",
       "│           ┆ 8         ┆           ┆ Owner     ┆   ┆ 6         ┆           ┆           ┆          │\n",
       "│           ┆ 00:00:00  ┆           ┆           ┆   ┆ 14:37:00  ┆           ┆           ┆          │\n",
       "│ A234161   ┆ 2001-03-2 ┆ null      ┆ Return to ┆ … ┆ 2013-12-2 ┆ 2013      ┆ 1.0       ┆ 0.200694 │\n",
       "│           ┆ 6         ┆           ┆ Owner     ┆   ┆ 7         ┆           ┆           ┆          │\n",
       "│           ┆ 00:00:00  ┆           ┆           ┆   ┆ 12:13:00  ┆           ┆           ┆          │\n",
       "│ A236259   ┆ 2001-07-1 ┆ null      ┆ Return to ┆ … ┆ 2014-07-0 ┆ 2014      ┆ 1.0       ┆ 4.199306 │\n",
       "│           ┆ 0         ┆           ┆ Owner     ┆   ┆ 5         ┆           ┆           ┆          │\n",
       "│           ┆ 00:00:00  ┆           ┆           ┆   ┆ 07:13:00  ┆           ┆           ┆          │\n",
       "│ A238870   ┆ 2001-05-2 ┆ Partner   ┆ Transfer  ┆ … ┆ 2016-06-0 ┆ 2016      ┆ 1.0       ┆ 7.84375  │\n",
       "│           ┆ 4         ┆           ┆           ┆   ┆ 9         ┆           ┆           ┆          │\n",
       "│           ┆ 00:00:00  ┆           ┆           ┆   ┆ 16:22:00  ┆           ┆           ┆          │\n",
       "│ A243903   ┆ 2000-07-1 ┆ null      ┆ Return to ┆ … ┆ 2013-12-3 ┆ 2013      ┆ 1.0       ┆ 4.804861 │\n",
       "│           ┆ 2         ┆           ┆ Owner     ┆   ┆ 1         ┆           ┆           ┆          │\n",
       "│           ┆ 00:00:00  ┆           ┆           ┆   ┆ 16:26:00  ┆           ┆           ┆          │\n",
       "└───────────┴───────────┴───────────┴───────────┴───┴───────────┴───────────┴───────────┴──────────┘"
      ]
     },
     "execution_count": 7,
     "metadata": {},
     "output_type": "execute_result"
    }
   ],
   "source": [
    "df.head(30)"
   ]
  },
  {
   "cell_type": "code",
   "execution_count": 8,
   "metadata": {},
   "outputs": [],
   "source": [
    "df_short = df.head(50000)\n",
    "df_short.write_csv(\"data.csv\")"
   ]
  },
  {
   "cell_type": "code",
   "execution_count": 17,
   "metadata": {},
   "outputs": [
    {
     "data": {
      "image/png": "[encoded data removed]",
      "text/plain": [
       "<Figure size 1200x600 with 1 Axes>"
      ]
     },
     "metadata": {},
     "output_type": "display_data"
    }
   ],
   "source": [
    "\n",
    "outcome_counts = df['outcome_type'].value_counts().sort('count', descending=True)\n",
    "\n",
    "plt.figure(figsize=(12, 6))\n",
    "plt.bar(outcome_counts['outcome_type'], outcome_counts['count'])\n",
    "plt.title('Distribution of Outcome Types')\n",
    "plt.xlabel('Outcome Type')\n",
    "plt.ylabel('Count')\n",
    "plt.xticks(rotation=45, ha='right')\n",
    "plt.tight_layout()\n",
    "plt.show()\n",
    "\n",
    "## Observation AS: Can analyse reasons for 'Return to Owner' and 'Euthanasia' more ## \n",
    "## (AS) I've added some logic to do that below"
   ]
  },
  {
   "cell_type": "code",
   "execution_count": 18,
   "metadata": {},
   "outputs": [
    {
     "data": {
      "text/html": [
       "<div><style>\n",
       ".dataframe > thead > tr,\n",
       ".dataframe > tbody > tr {\n",
       "  text-align: right;\n",
       "  white-space: pre-wrap;\n",
       "}\n",
       "</style>\n",
       "<small>shape: (9, 2)</small><table border=\"1\" class=\"dataframe\"><thead><tr><th>outcome_type</th><th>count</th></tr><tr><td>str</td><td>u32</td></tr></thead><tbody><tr><td>&quot;Adoption&quot;</td><td>33594</td></tr><tr><td>&quot;Transfer&quot;</td><td>23799</td></tr><tr><td>&quot;Return to Owner&quot;</td><td>14790</td></tr><tr><td>&quot;Euthanasia&quot;</td><td>6244</td></tr><tr><td>&quot;Died&quot;</td><td>690</td></tr><tr><td>&quot;Disposal&quot;</td><td>304</td></tr><tr><td>&quot;Rto-Adopt&quot;</td><td>179</td></tr><tr><td>&quot;Missing&quot;</td><td>46</td></tr><tr><td>&quot;Relocate&quot;</td><td>15</td></tr></tbody></table></div>"
      ],
      "text/plain": [
       "shape: (9, 2)\n",
       "┌─────────────────┬───────┐\n",
       "│ outcome_type    ┆ count │\n",
       "│ ---             ┆ ---   │\n",
       "│ str             ┆ u32   │\n",
       "╞═════════════════╪═══════╡\n",
       "│ Adoption        ┆ 33594 │\n",
       "│ Transfer        ┆ 23799 │\n",
       "│ Return to Owner ┆ 14790 │\n",
       "│ Euthanasia      ┆ 6244  │\n",
       "│ Died            ┆ 690   │\n",
       "│ Disposal        ┆ 304   │\n",
       "│ Rto-Adopt       ┆ 179   │\n",
       "│ Missing         ┆ 46    │\n",
       "│ Relocate        ┆ 15    │\n",
       "└─────────────────┴───────┘"
      ]
     },
     "execution_count": 18,
     "metadata": {},
     "output_type": "execute_result"
    }
   ],
   "source": [
    "outcome_counts"
   ]
  },
  {
   "cell_type": "code",
   "execution_count": 19,
   "metadata": {},
   "outputs": [
    {
     "data": {
      "text/html": [
       "<div><style>\n",
       ".dataframe > thead > tr,\n",
       ".dataframe > tbody > tr {\n",
       "  text-align: right;\n",
       "  white-space: pre-wrap;\n",
       "}\n",
       "</style>\n",
       "<small>shape: (9, 3)</small><table border=\"1\" class=\"dataframe\"><thead><tr><th>outcome_subtype</th><th>count</th><th>avg_time_in_shelter</th></tr><tr><td>str</td><td>u32</td><td>f64</td></tr></thead><tbody><tr><td>&quot;Suffering&quot;</td><td>2549</td><td>5.419864</td></tr><tr><td>&quot;Rabies Risk&quot;</td><td>2539</td><td>0.913033</td></tr><tr><td>&quot;Aggressive&quot;</td><td>497</td><td>13.117635</td></tr><tr><td>&quot;Medical&quot;</td><td>265</td><td>8.015529</td></tr><tr><td>&quot;Behavior&quot;</td><td>133</td><td>21.50353</td></tr><tr><td>&quot;At Vet&quot;</td><td>36</td><td>40.427141</td></tr><tr><td>&quot;Underage&quot;</td><td>28</td><td>0.12691</td></tr><tr><td>&quot;Court/Investigation&quot;</td><td>23</td><td>155.025393</td></tr><tr><td>null</td><td>0</td><td>1.152598</td></tr></tbody></table></div>"
      ],
      "text/plain": [
       "shape: (9, 3)\n",
       "┌─────────────────────┬───────┬─────────────────────┐\n",
       "│ outcome_subtype     ┆ count ┆ avg_time_in_shelter │\n",
       "│ ---                 ┆ ---   ┆ ---                 │\n",
       "│ str                 ┆ u32   ┆ f64                 │\n",
       "╞═════════════════════╪═══════╪═════════════════════╡\n",
       "│ Suffering           ┆ 2549  ┆ 5.419864            │\n",
       "│ Rabies Risk         ┆ 2539  ┆ 0.913033            │\n",
       "│ Aggressive          ┆ 497   ┆ 13.117635           │\n",
       "│ Medical             ┆ 265   ┆ 8.015529            │\n",
       "│ Behavior            ┆ 133   ┆ 21.50353            │\n",
       "│ At Vet              ┆ 36    ┆ 40.427141           │\n",
       "│ Underage            ┆ 28    ┆ 0.12691             │\n",
       "│ Court/Investigation ┆ 23    ┆ 155.025393          │\n",
       "│ null                ┆ 0     ┆ 1.152598            │\n",
       "└─────────────────────┴───────┴─────────────────────┘"
      ]
     },
     "execution_count": 19,
     "metadata": {},
     "output_type": "execute_result"
    }
   ],
   "source": [
    "# Analyse \"Euthanasia\" cases \n",
    "\n",
    "euth_analysis = df.filter(pl.col('outcome_type') == 'Euthanasia')\\\n",
    "                    .group_by('outcome_subtype')\\\n",
    "                    .agg([\n",
    "                        pl.count('outcome_subtype').alias('count'),\n",
    "                        pl.mean('time_in_shelter_days').alias('avg_time_in_shelter'),\n",
    "\n",
    "                    ])\\\n",
    "                    .sort('count', descending=True)\n",
    "euth_analysis"
   ]
  },
  {
   "cell_type": "code",
   "execution_count": 20,
   "metadata": {},
   "outputs": [
    {
     "ename": "ModuleNotFoundError",
     "evalue": "pa.Table requires 'pyarrow' module to be installed",
     "output_type": "error",
     "traceback": [
      "\u001b[0;31m---------------------------------------------------------------------------\u001b[0m",
      "\u001b[0;31mModuleNotFoundError\u001b[0m                       Traceback (most recent call last)",
      "Cell \u001b[0;32mIn[20], line 1\u001b[0m\n\u001b[0;32m----> 1\u001b[0m euth_analysis_df \u001b[38;5;241m=\u001b[39m \u001b[43meuth_analysis\u001b[49m\u001b[38;5;241;43m.\u001b[39;49m\u001b[43mto_pandas\u001b[49m\u001b[43m(\u001b[49m\u001b[43m)\u001b[49m\n\u001b[1;32m      3\u001b[0m \u001b[38;5;66;03m# Set up the figure\u001b[39;00m\n\u001b[1;32m      4\u001b[0m fig, ax1 \u001b[38;5;241m=\u001b[39m plt\u001b[38;5;241m.\u001b[39msubplots(figsize\u001b[38;5;241m=\u001b[39m(\u001b[38;5;241m10\u001b[39m, \u001b[38;5;241m6\u001b[39m))\n",
      "File \u001b[0;32m~/miniconda3/lib/python3.10/site-packages/polars/dataframe/frame.py:2412\u001b[0m, in \u001b[0;36mDataFrame.to_pandas\u001b[0;34m(self, use_pyarrow_extension_array, **kwargs)\u001b[0m\n\u001b[1;32m   2407\u001b[0m \u001b[38;5;28;01mif\u001b[39;00m Object \u001b[38;5;129;01min\u001b[39;00m \u001b[38;5;28mself\u001b[39m\u001b[38;5;241m.\u001b[39mdtypes:\n\u001b[1;32m   2408\u001b[0m     \u001b[38;5;28;01mreturn\u001b[39;00m \u001b[38;5;28mself\u001b[39m\u001b[38;5;241m.\u001b[39m_to_pandas_with_object_columns(\n\u001b[1;32m   2409\u001b[0m         use_pyarrow_extension_array\u001b[38;5;241m=\u001b[39muse_pyarrow_extension_array, \u001b[38;5;241m*\u001b[39m\u001b[38;5;241m*\u001b[39mkwargs\n\u001b[1;32m   2410\u001b[0m     )\n\u001b[0;32m-> 2412\u001b[0m \u001b[38;5;28;01mreturn\u001b[39;00m \u001b[38;5;28;43mself\u001b[39;49m\u001b[38;5;241;43m.\u001b[39;49m\u001b[43m_to_pandas_without_object_columns\u001b[49m\u001b[43m(\u001b[49m\n\u001b[1;32m   2413\u001b[0m \u001b[43m    \u001b[49m\u001b[38;5;28;43mself\u001b[39;49m\u001b[43m,\u001b[49m\u001b[43m \u001b[49m\u001b[43muse_pyarrow_extension_array\u001b[49m\u001b[38;5;241;43m=\u001b[39;49m\u001b[43muse_pyarrow_extension_array\u001b[49m\u001b[43m,\u001b[49m\u001b[43m \u001b[49m\u001b[38;5;241;43m*\u001b[39;49m\u001b[38;5;241;43m*\u001b[39;49m\u001b[43mkwargs\u001b[49m\n\u001b[1;32m   2414\u001b[0m \u001b[43m\u001b[49m\u001b[43m)\u001b[49m\n",
      "File \u001b[0;32m~/miniconda3/lib/python3.10/site-packages/polars/dataframe/frame.py:2464\u001b[0m, in \u001b[0;36mDataFrame._to_pandas_without_object_columns\u001b[0;34m(self, df, use_pyarrow_extension_array, **kwargs)\u001b[0m\n\u001b[1;32m   2461\u001b[0m     \u001b[38;5;28;01mreturn\u001b[39;00m pd\u001b[38;5;241m.\u001b[39mDataFrame()\n\u001b[1;32m   2463\u001b[0m record_batches \u001b[38;5;241m=\u001b[39m df\u001b[38;5;241m.\u001b[39m_df\u001b[38;5;241m.\u001b[39mto_pandas()\n\u001b[0;32m-> 2464\u001b[0m tbl \u001b[38;5;241m=\u001b[39m \u001b[43mpa\u001b[49m\u001b[38;5;241;43m.\u001b[39;49m\u001b[43mTable\u001b[49m\u001b[38;5;241m.\u001b[39mfrom_batches(record_batches)\n\u001b[1;32m   2465\u001b[0m \u001b[38;5;28;01mif\u001b[39;00m use_pyarrow_extension_array:\n\u001b[1;32m   2466\u001b[0m     \u001b[38;5;28;01mreturn\u001b[39;00m tbl\u001b[38;5;241m.\u001b[39mto_pandas(\n\u001b[1;32m   2467\u001b[0m         self_destruct\u001b[38;5;241m=\u001b[39m\u001b[38;5;28;01mTrue\u001b[39;00m,\n\u001b[1;32m   2468\u001b[0m         split_blocks\u001b[38;5;241m=\u001b[39m\u001b[38;5;28;01mTrue\u001b[39;00m,\n\u001b[1;32m   2469\u001b[0m         types_mapper\u001b[38;5;241m=\u001b[39m\u001b[38;5;28;01mlambda\u001b[39;00m pa_dtype: pd\u001b[38;5;241m.\u001b[39mArrowDtype(pa_dtype),\n\u001b[1;32m   2470\u001b[0m         \u001b[38;5;241m*\u001b[39m\u001b[38;5;241m*\u001b[39mkwargs,\n\u001b[1;32m   2471\u001b[0m     )\n",
      "File \u001b[0;32m~/miniconda3/lib/python3.10/site-packages/polars/dependencies.py:99\u001b[0m, in \u001b[0;36m_LazyModule.__getattr__\u001b[0;34m(self, name)\u001b[0m\n\u001b[1;32m     97\u001b[0m pfx \u001b[38;5;241m=\u001b[39m \u001b[38;5;28mself\u001b[39m\u001b[38;5;241m.\u001b[39m_mod_pfx\u001b[38;5;241m.\u001b[39mget(\u001b[38;5;28mself\u001b[39m\u001b[38;5;241m.\u001b[39m_module_name, \u001b[38;5;124m\"\u001b[39m\u001b[38;5;124m\"\u001b[39m)\n\u001b[1;32m     98\u001b[0m msg \u001b[38;5;241m=\u001b[39m \u001b[38;5;124mf\u001b[39m\u001b[38;5;124m\"\u001b[39m\u001b[38;5;132;01m{\u001b[39;00mpfx\u001b[38;5;132;01m}\u001b[39;00m\u001b[38;5;132;01m{\u001b[39;00mname\u001b[38;5;132;01m}\u001b[39;00m\u001b[38;5;124m requires \u001b[39m\u001b[38;5;132;01m{\u001b[39;00m\u001b[38;5;28mself\u001b[39m\u001b[38;5;241m.\u001b[39m_module_name\u001b[38;5;132;01m!r}\u001b[39;00m\u001b[38;5;124m module to be installed\u001b[39m\u001b[38;5;124m\"\u001b[39m\n\u001b[0;32m---> 99\u001b[0m \u001b[38;5;28;01mraise\u001b[39;00m \u001b[38;5;167;01mModuleNotFoundError\u001b[39;00m(msg) \u001b[38;5;28;01mfrom\u001b[39;00m \u001b[38;5;28mNone\u001b[39m\n",
      "\u001b[0;31mModuleNotFoundError\u001b[0m: pa.Table requires 'pyarrow' module to be installed"
     ]
    }
   ],
   "source": [
    "euth_analysis_df = euth_analysis.to_pandas()\n",
    "\n",
    "# Set up the figure\n",
    "fig, ax1 = plt.subplots(figsize=(10, 6))\n",
    "\n",
    "# Plot counts as bars\n",
    "sns.barplot(\n",
    "    x='count', \n",
    "    y='outcome_subtype', \n",
    "    data=euth_analysis_df, \n",
    "    hue='outcome_subtype',\n",
    "    palette='viridis', \n",
    "    ax=ax1\n",
    ")\n",
    "ax1.set_xlabel('Count')\n",
    "ax1.set_ylabel('Outcome Subtype')\n",
    "ax1.set_title('Euthanasia Subtype Analysis: Count and Avg Time in Shelter')\n",
    "\n",
    "# Add a secondary axis for avg_time_in_shelter\n",
    "ax2 = ax1.twiny()\n",
    "sns.scatterplot(\n",
    "    x='avg_time_in_shelter', \n",
    "    y='outcome_subtype', \n",
    "    data=euth_analysis_df, \n",
    "    color='red', \n",
    "    marker='o', \n",
    "    ax=ax2\n",
    ")\n",
    "ax2.set_xlabel('Avg Time in Shelter (days)', color='red')\n",
    "ax2.tick_params(axis='x', colors='red')\n",
    "\n",
    "# Display the plot\n",
    "plt.tight_layout()\n",
    "plt.show()\n",
    "\n"
   ]
  },
  {
   "cell_type": "markdown",
   "metadata": {},
   "source": [
    "we can see that the two main reasons cause shelter to euthanatize are that animals are suffering and they have rabies risk that may cause panic in people. If they are suffering from illness or something more severe, euthanasia may be a way of relief to them. We can also see that when animals suffering, the time they stay in shelter is pretty short, which shows that the shelter performed euthanasia very soon. Is this a humanitarianism?"
   ]
  },
  {
   "cell_type": "code",
   "execution_count": null,
   "metadata": {},
   "outputs": [],
   "source": [
    "#Outcome Types by Animal Type\n",
    "\n",
    "sns.countplot(data=df, x='animal_type', hue='outcome_type')\n",
    "plt.title('Outcome Types by Animal Type')\n",
    "plt.xticks(rotation=45)\n",
    "plt.show()\n"
   ]
  },
  {
   "cell_type": "markdown",
   "metadata": {},
   "source": [
    "We can see from the plot that dog has a great instances of return to owners compared to other animal types, while it also has a higher proportion of adoption, which may mean dogs are still relatively easy to adopt, but the probability of returning them is also high, and the situation is more extreme. One thing need to be noticed is that Euthanasia of other types are extreamly high compared to dogs, cats, and birds, which may mean other animals are less common and accepted than cats and dogs."
   ]
  },
  {
   "cell_type": "code",
   "execution_count": null,
   "metadata": {},
   "outputs": [],
   "source": [
    "#take an example: dog\n",
    "dogs_outcome = df.filter(pl.col('animal_type') == 'Dog')\\\n",
    "                    .group_by('outcome_type')\\\n",
    "                    .agg([\n",
    "                        pl.count('outcome_type').alias('count'),\n",
    "\n",
    "                    ])\\\n",
    "                    .sort('count', descending=True)\n",
    "\n",
    "\n",
    "# Step 3: Convert to Pandas for Matplotlib\n",
    "dogs_outcome.to_pandas()\n",
    "\n",
    "# Step 4: Create the pie chart\n",
    "plt.figure(figsize=(8, 8))\n",
    "plt.pie(\n",
    "    dogs_outcome['count'], \n",
    "    labels=dogs_outcome['outcome_type'], \n",
    "    autopct='%1.1f%%',  # Show percentages\n",
    "    startangle=90,      # Rotate to start at the top\n",
    "    colors=plt.cm.Paired.colors  # Use a colormap for distinct colors\n",
    ")\n",
    "plt.title('Outcome Distribution for Dogs')\n",
    "plt.show()"
   ]
  },
  {
   "cell_type": "code",
   "execution_count": null,
   "metadata": {},
   "outputs": [],
   "source": [
    "#take an example: cat\n",
    "cats_outcome = df.filter(pl.col('animal_type') == 'Cat')\\\n",
    "                    .group_by('outcome_type')\\\n",
    "                    .agg([\n",
    "                        pl.count('outcome_type').alias('count'),\n",
    "\n",
    "                    ])\\\n",
    "                    .sort('count', descending=True)\n",
    "\n",
    "\n",
    "# Step 3: Convert to Pandas for Matplotlib\n",
    "cats_outcome.to_pandas()\n",
    "\n",
    "# Step 4: Create the pie chart\n",
    "plt.figure(figsize=(8, 8))\n",
    "plt.pie(\n",
    "    cats_outcome['count'], \n",
    "    labels=cats_outcome['outcome_type'], \n",
    "    autopct='%1.1f%%',  # Show percentages\n",
    "    startangle=90,      # Rotate to start at the top\n",
    "    colors=plt.cm.Paired.colors  # Use a colormap for distinct colors\n",
    ")\n",
    "plt.title('Outcome Distribution for Cats')\n",
    "plt.show()"
   ]
  },
  {
   "cell_type": "markdown",
   "metadata": {},
   "source": [
    "Take a closer look at outcome distribution of dogs and cats, we can see their adoption rate are similar. The transfer rate and adoption rate of cats are quiet similar, which may mean cats are harder to integrate into new families due to their relatively high transfer rate."
   ]
  },
  {
   "cell_type": "code",
   "execution_count": null,
   "metadata": {},
   "outputs": [],
   "source": [
    "sns.boxplot(data=df, x='animal_type', y='time_in_shelter_days')\n",
    "plt.title('Time in Shelter by Outcome Type')\n",
    "plt.xticks(rotation=45)\n",
    "plt.show()"
   ]
  },
  {
   "cell_type": "code",
   "execution_count": null,
   "metadata": {},
   "outputs": [],
   "source": [
    "sns.boxplot(data=df, x='outcome_type', y='time_in_shelter_days')\n",
    "plt.title('Time in Shelter by Outcome Type')\n",
    "plt.xticks(rotation=45)\n",
    "plt.show()"
   ]
  },
  {
   "cell_type": "markdown",
   "metadata": {},
   "source": [
    "we can see the days animals spent in shelter are pretty short, no matter their type and outcome type."
   ]
  },
  {
   "cell_type": "code",
   "execution_count": null,
   "metadata": {},
   "outputs": [],
   "source": [
    "sns.scatterplot(data=df, x='age_upon_intake_(years)', y='time_in_shelter_days', hue='animal_type')\n",
    "plt.title('Age upon Intake vs Time in Shelter')\n",
    "plt.show()"
   ]
  },
  {
   "cell_type": "code",
   "execution_count": null,
   "metadata": {},
   "outputs": [],
   "source": [
    "## Analysing trends for dog and cat adoption\n",
    "#dogs top 10 breeds\n",
    "#top dog breeds\n",
    "top_breeds = (\n",
    "    df.filter(pl.col('animal_type') == 'Dog')\n",
    "    .group_by('breed')\n",
    "    .agg(pl.count('breed').alias('count'))  # Use `agg` with `pl.count()`\n",
    "    .sort('count', descending=True)\n",
    "    .limit(10)\n",
    ")\n",
    "\n",
    "# Convert Polars DataFrame to Pandas for Matplotlib\n",
    "top_breeds_pd = top_breeds.to_pandas()\n",
    "\n",
    "# Create a bar plot\n",
    "plt.figure(figsize=(12, 6))\n",
    "plt.bar(top_breeds_pd['breed'], top_breeds_pd['count'], color='skyblue')\n",
    "\n",
    "plt.title('Top 10 Dog Breeds')\n",
    "plt.xlabel('Breed of Dogs')\n",
    "plt.ylabel('Count')\n",
    "plt.xticks(rotation=45, ha='right')\n",
    "plt.tight_layout()\n",
    "\n",
    "plt.show()"
   ]
  },
  {
   "cell_type": "code",
   "execution_count": null,
   "metadata": {},
   "outputs": [],
   "source": [
    "#adoption trends for dogs\n",
    "\n",
    "# Filter for adopted dogs\n",
    "dogs_adopted = df.filter(\n",
    "    (pl.col('animal_type') == 'Dog') & \n",
    "    (pl.col('outcome_type') == 'Adoption')\n",
    ")\n",
    "\n",
    "# Age Analysis\n",
    "plt.figure(figsize=(10, 6))\n",
    "sns.histplot(dogs_adopted['age_upon_outcome_(years)'].to_numpy(), bins=20, kde=True, color='skyblue')\n",
    "plt.title('Age Distribution of Adopted Dogs')\n",
    "plt.xlabel('Age (years)')\n",
    "plt.ylabel('Count')\n",
    "plt.tight_layout()\n",
    "plt.show()"
   ]
  },
  {
   "cell_type": "markdown",
   "metadata": {},
   "source": [
    "From the plot we can tell as dogs get older, their chances of being adopted decrease."
   ]
  },
  {
   "cell_type": "code",
   "execution_count": null,
   "metadata": {},
   "outputs": [],
   "source": [
    "# Top Adopted Breeds\n",
    "top_breeds = (\n",
    "    dogs_adopted\n",
    "    .group_by('breed')\n",
    "    .agg(pl.len().alias('count'))  # Use `pl.len()` instead of `pl.count()`\n",
    "    .sort('count', descending=True)\n",
    "    .limit(10)\n",
    ")\n",
    "\n",
    "# Visualization for Top Breeds\n",
    "plt.figure(figsize=(12, 6))\n",
    "plt.bar(top_breeds['breed'].to_list(), top_breeds['count'].to_list(), color='lightgreen')\n",
    "plt.title('Top 10 Adopted Dog Breeds')\n",
    "plt.xlabel('Breed')\n",
    "plt.ylabel('Count')\n",
    "plt.xticks(rotation=45, ha='right')\n",
    "plt.tight_layout()\n",
    "plt.show()"
   ]
  },
  {
   "cell_type": "code",
   "execution_count": null,
   "metadata": {},
   "outputs": [],
   "source": [
    "# Color Analysis\n",
    "top_colors = (\n",
    "    dogs_adopted\n",
    "    .group_by('color')\n",
    "    .agg(pl.len().alias('count'))\n",
    "    .sort('count', descending=True)\n",
    "    .limit(10)\n",
    ")\n",
    "\n",
    "plt.figure(figsize=(12, 6))\n",
    "plt.bar(top_colors['color'].to_list(), top_colors['count'].to_list(), color='salmon')\n",
    "plt.title('Top 10 Colors of Adopted Dogs')\n",
    "plt.xlabel('Color')\n",
    "plt.ylabel('Count')\n",
    "plt.xticks(rotation=45, ha='right')\n",
    "plt.tight_layout()\n",
    "plt.show()"
   ]
  },
  {
   "cell_type": "markdown",
   "metadata": {},
   "source": [
    "Black and white dogs seem to be more popular."
   ]
  },
  {
   "cell_type": "code",
   "execution_count": null,
   "metadata": {},
   "outputs": [],
   "source": [
    "# Sex Analysis\n",
    "sex_counts = (\n",
    "    dogs_adopted\n",
    "    .group_by('sex_upon_outcome')\n",
    "    .agg(pl.len().alias('count'))\n",
    "    .sort('count', descending=True)\n",
    ")\n",
    "\n",
    "plt.figure(figsize=(8, 6))\n",
    "plt.pie(\n",
    "    sex_counts['count'].to_list(), \n",
    "    labels=sex_counts['sex_upon_outcome'].to_list(), \n",
    "    autopct='%1.1f%%', \n",
    "    colors=plt.cm.Paired.colors\n",
    ")\n",
    "plt.title('Sex Distribution of Adopted Dogs')\n",
    "plt.axis('equal')  # Equal aspect ratio ensures that pie is drawn as a circle\n",
    "plt.tight_layout()\n",
    "plt.show()"
   ]
  },
  {
   "cell_type": "markdown",
   "metadata": {},
   "source": [
    "we can see Male and female dogs are about the same rate of adoption, but the probability of spayed is 30 times higher than that of intact adoption."
   ]
  },
  {
   "cell_type": "code",
   "execution_count": null,
   "metadata": {},
   "outputs": [],
   "source": [
    "\n",
    "#top cat breeds\n",
    "\n",
    "top_breeds = (\n",
    "    df.filter(pl.col('animal_type') == 'Cat')\n",
    "    .group_by('breed')\n",
    "    .agg(pl.count('breed').alias('count'))  # Use `agg` with `pl.count()`\n",
    "    .sort('count', descending=True)\n",
    "    .limit(10)\n",
    ")\n",
    "\n",
    "# Convert Polars DataFrame to Pandas for Matplotlib\n",
    "top_breeds_pd = top_breeds.to_pandas()\n",
    "\n",
    "# Create a bar plot\n",
    "plt.figure(figsize=(12, 6))\n",
    "plt.bar(top_breeds_pd['breed'], top_breeds_pd['count'], color='skyblue')\n",
    "\n",
    "plt.title('Top 10 Cat Breeds')\n",
    "plt.xlabel('Breed of Cats')\n",
    "plt.ylabel('Count')\n",
    "plt.xticks(rotation=45, ha='right')\n",
    "plt.tight_layout()\n",
    "\n",
    "plt.show()"
   ]
  },
  {
   "cell_type": "code",
   "execution_count": null,
   "metadata": {},
   "outputs": [],
   "source": [
    "#adoption trends for cats\n",
    "\n",
    "# Filter for adopted cats\n",
    "cats_adopted = df.filter(\n",
    "    (pl.col('animal_type') == 'Cat') & \n",
    "    (pl.col('outcome_type') == 'Adoption')\n",
    ")\n",
    "\n",
    "# Age Analysis\n",
    "plt.figure(figsize=(10, 6))\n",
    "sns.histplot(cats_adopted['age_upon_outcome_(years)'].to_numpy(), bins=20, kde=True, color='skyblue')\n",
    "plt.title('Age Distribution of Adopted Catss')\n",
    "plt.xlabel('Age (years)')\n",
    "plt.ylabel('Count')\n",
    "plt.tight_layout()\n",
    "plt.show()"
   ]
  },
  {
   "cell_type": "markdown",
   "metadata": {},
   "source": [
    "Compared to dog's adoption trend, kittens aged 0-8 months are about 10 times more likely to be adopted than other age groups."
   ]
  },
  {
   "cell_type": "code",
   "execution_count": null,
   "metadata": {},
   "outputs": [],
   "source": [
    "# Top Adopted Breeds\n",
    "top_breeds = (\n",
    "    cats_adopted\n",
    "    .group_by('breed')\n",
    "    .agg(pl.len().alias('count'))  # Use `pl.len()` instead of `pl.count()`\n",
    "    .sort('count', descending=True)\n",
    "    .limit(10)\n",
    ")\n",
    "\n",
    "# Visualization for Top Breeds\n",
    "plt.figure(figsize=(12, 6))\n",
    "plt.bar(top_breeds['breed'].to_list(), top_breeds['count'].to_list(), color='lightgreen')\n",
    "plt.title('Top 10 Adopted Cat Breeds')\n",
    "plt.xlabel('Breed')\n",
    "plt.ylabel('Count')\n",
    "plt.xticks(rotation=45, ha='right')\n",
    "plt.tight_layout()\n",
    "plt.show()"
   ]
  },
  {
   "cell_type": "code",
   "execution_count": null,
   "metadata": {},
   "outputs": [],
   "source": [
    "# Color Analysis\n",
    "top_colors = (\n",
    "    cats_adopted\n",
    "    .group_by('color')\n",
    "    .agg(pl.len().alias('count'))\n",
    "    .sort('count', descending=True)\n",
    "    .limit(10)\n",
    ")\n",
    "\n",
    "plt.figure(figsize=(12, 6))\n",
    "plt.bar(top_colors['color'].to_list(), top_colors['count'].to_list(), color='salmon')\n",
    "plt.title('Top 10 Colors of Adopted Cats')\n",
    "plt.xlabel('Color')\n",
    "plt.ylabel('Count')\n",
    "plt.xticks(rotation=45, ha='right')\n",
    "plt.tight_layout()\n",
    "plt.show()"
   ]
  },
  {
   "cell_type": "code",
   "execution_count": null,
   "metadata": {},
   "outputs": [],
   "source": [
    "# Sex Analysis\n",
    "sex_counts = (\n",
    "    cats_adopted\n",
    "    .group_by('sex_upon_outcome')\n",
    "    .agg(pl.len().alias('count'))\n",
    "    .sort('count', descending=True)\n",
    ")\n",
    "\n",
    "plt.figure(figsize=(8, 6))\n",
    "plt.pie(\n",
    "    sex_counts['count'].to_list(), \n",
    "    labels=sex_counts['sex_upon_outcome'].to_list(), \n",
    "    autopct='%1.1f%%', \n",
    "    colors=plt.cm.Paired.colors\n",
    ")\n",
    "plt.title('Sex Distribution of Adopted Cats')\n",
    "plt.axis('equal')  # Equal aspect ratio ensures that pie is drawn as a circle\n",
    "plt.tight_layout()\n",
    "plt.show()"
   ]
  },
  {
   "cell_type": "markdown",
   "metadata": {},
   "source": [
    "Cats' sex analysis seem to have the similar pattern with dogs'."
   ]
  },
  {
   "cell_type": "markdown",
   "metadata": {},
   "source": [
    "## Regression Analysis"
   ]
  },
  {
   "cell_type": "markdown",
   "metadata": {},
   "source": [
    "The goal of this project is to determine the most influential features that influence adoption likelihood in order to provide valuable insights to shelters so that they can use this information to boost adoption rates of animals less likely to be adopted."
   ]
  },
  {
   "cell_type": "markdown",
   "metadata": {},
   "source": [
    "### Feature Analysis for Dogs\n",
    "First we will look at features of dogs such as age, sex, and color to see if these impact adoption rates of dogs."
   ]
  },
  {
   "cell_type": "code",
   "execution_count": 1,
   "metadata": {},
   "outputs": [],
   "source": [
    "import statsmodels.formula.api as smf\n",
    "from scipy.stats import ttest_ind, chisquare, normaltest\n",
    "import statsmodels as sm\n",
    "from sklearn.preprocessing import OneHotEncoder"
   ]
  },
  {
   "cell_type": "markdown",
   "metadata": {},
   "source": [
    "## Age vs. Adoption"
   ]
  },
  {
   "cell_type": "code",
   "execution_count": 30,
   "metadata": {},
   "outputs": [
    {
     "data": {
      "text/plain": [
       "(79672, 41)"
      ]
     },
     "execution_count": 30,
     "metadata": {},
     "output_type": "execute_result"
    }
   ],
   "source": [
    "import pandas as pd\n",
    "df = pd.read_csv(\"aac_intakes_outcomes.csv\")\n",
    "df.head(5)\n",
    "df.shape"
   ]
  },
  {
   "cell_type": "code",
   "execution_count": 31,
   "metadata": {},
   "outputs": [
    {
     "data": {
      "text/plain": [
       "(36348, 41)"
      ]
     },
     "execution_count": 31,
     "metadata": {},
     "output_type": "execute_result"
    }
   ],
   "source": [
    "df.dropna(inplace=True)\n",
    "df.shape"
   ]
  },
  {
   "cell_type": "code",
   "execution_count": 32,
   "metadata": {},
   "outputs": [],
   "source": [
    "df['date_of_birth'] = pd.to_datetime(df['date_of_birth'])\n",
    "df['outcome_datetime'] = pd.to_datetime(df['outcome_datetime'])\n",
    "df['intake_datetime'] = pd.to_datetime(df['intake_datetime'])"
   ]
  },
  {
   "cell_type": "code",
   "execution_count": 33,
   "metadata": {},
   "outputs": [
    {
     "name": "stderr",
     "output_type": "stream",
     "text": [
      "/var/folders/wq/47cr8x6n4974q4mwz_wsnmsr0000gn/T/ipykernel_70058/3733472389.py:3: SettingWithCopyWarning: \n",
      "A value is trying to be set on a copy of a slice from a DataFrame.\n",
      "Try using .loc[row_indexer,col_indexer] = value instead\n",
      "\n",
      "See the caveats in the documentation: https://pandas.pydata.org/pandas-docs/stable/user_guide/indexing.html#returning-a-view-versus-a-copy\n",
      "  df_dogs['age_upon_intake_years'] = df_dogs[\"age_upon_intake_(years)\"]\n"
     ]
    },
    {
     "data": {
      "text/html": [
       "<div>\n",
       "<style scoped>\n",
       "    .dataframe tbody tr th:only-of-type {\n",
       "        vertical-align: middle;\n",
       "    }\n",
       "\n",
       "    .dataframe tbody tr th {\n",
       "        vertical-align: top;\n",
       "    }\n",
       "\n",
       "    .dataframe thead th {\n",
       "        text-align: right;\n",
       "    }\n",
       "</style>\n",
       "<table border=\"1\" class=\"dataframe\">\n",
       "  <thead>\n",
       "    <tr style=\"text-align: right;\">\n",
       "      <th></th>\n",
       "      <th>age_upon_outcome</th>\n",
       "      <th>animal_id_outcome</th>\n",
       "      <th>date_of_birth</th>\n",
       "      <th>outcome_subtype</th>\n",
       "      <th>outcome_type</th>\n",
       "      <th>sex_upon_outcome</th>\n",
       "      <th>age_upon_outcome_(days)</th>\n",
       "      <th>age_upon_outcome_(years)</th>\n",
       "      <th>age_upon_outcome_age_group</th>\n",
       "      <th>outcome_datetime</th>\n",
       "      <th>...</th>\n",
       "      <th>intake_datetime</th>\n",
       "      <th>intake_month</th>\n",
       "      <th>intake_year</th>\n",
       "      <th>intake_monthyear</th>\n",
       "      <th>intake_weekday</th>\n",
       "      <th>intake_hour</th>\n",
       "      <th>intake_number</th>\n",
       "      <th>time_in_shelter</th>\n",
       "      <th>time_in_shelter_days</th>\n",
       "      <th>age_upon_intake_years</th>\n",
       "    </tr>\n",
       "  </thead>\n",
       "  <tbody>\n",
       "    <tr>\n",
       "      <th>3</th>\n",
       "      <td>10 years</td>\n",
       "      <td>A047759</td>\n",
       "      <td>2004-04-02</td>\n",
       "      <td>Partner</td>\n",
       "      <td>Transfer</td>\n",
       "      <td>Neutered Male</td>\n",
       "      <td>3650</td>\n",
       "      <td>10.0</td>\n",
       "      <td>(7.5, 10.0]</td>\n",
       "      <td>2014-04-07 15:12:00</td>\n",
       "      <td>...</td>\n",
       "      <td>2014-04-02 15:55:00</td>\n",
       "      <td>4</td>\n",
       "      <td>2014</td>\n",
       "      <td>2014-04</td>\n",
       "      <td>Wednesday</td>\n",
       "      <td>15</td>\n",
       "      <td>1.0</td>\n",
       "      <td>4 days 23:17:00.000000000</td>\n",
       "      <td>4.970139</td>\n",
       "      <td>10.0</td>\n",
       "    </tr>\n",
       "    <tr>\n",
       "      <th>12</th>\n",
       "      <td>16 years</td>\n",
       "      <td>A200922</td>\n",
       "      <td>1997-10-03</td>\n",
       "      <td>Foster</td>\n",
       "      <td>Adoption</td>\n",
       "      <td>Neutered Male</td>\n",
       "      <td>5840</td>\n",
       "      <td>16.0</td>\n",
       "      <td>(15.0, 17.5]</td>\n",
       "      <td>2013-11-22 09:44:00</td>\n",
       "      <td>...</td>\n",
       "      <td>2013-10-03 15:47:00</td>\n",
       "      <td>10</td>\n",
       "      <td>2013</td>\n",
       "      <td>2013-10</td>\n",
       "      <td>Thursday</td>\n",
       "      <td>15</td>\n",
       "      <td>1.0</td>\n",
       "      <td>49 days 17:57:00.000000000</td>\n",
       "      <td>49.747917</td>\n",
       "      <td>16.0</td>\n",
       "    </tr>\n",
       "    <tr>\n",
       "      <th>13</th>\n",
       "      <td>14 years</td>\n",
       "      <td>A208755</td>\n",
       "      <td>2000-04-27</td>\n",
       "      <td>Suffering</td>\n",
       "      <td>Euthanasia</td>\n",
       "      <td>Neutered Male</td>\n",
       "      <td>5110</td>\n",
       "      <td>14.0</td>\n",
       "      <td>(12.5, 15.0]</td>\n",
       "      <td>2015-02-17 16:25:00</td>\n",
       "      <td>...</td>\n",
       "      <td>2015-02-17 13:17:00</td>\n",
       "      <td>2</td>\n",
       "      <td>2015</td>\n",
       "      <td>2015-02</td>\n",
       "      <td>Tuesday</td>\n",
       "      <td>13</td>\n",
       "      <td>1.0</td>\n",
       "      <td>0 days 03:08:00.000000000</td>\n",
       "      <td>0.130556</td>\n",
       "      <td>14.0</td>\n",
       "    </tr>\n",
       "    <tr>\n",
       "      <th>14</th>\n",
       "      <td>17 years</td>\n",
       "      <td>A210457</td>\n",
       "      <td>1999-06-01</td>\n",
       "      <td>Foster</td>\n",
       "      <td>Adoption</td>\n",
       "      <td>Neutered Male</td>\n",
       "      <td>6205</td>\n",
       "      <td>17.0</td>\n",
       "      <td>(15.0, 17.5]</td>\n",
       "      <td>2016-10-07 12:34:00</td>\n",
       "      <td>...</td>\n",
       "      <td>2016-09-28 12:05:00</td>\n",
       "      <td>9</td>\n",
       "      <td>2016</td>\n",
       "      <td>2016-09</td>\n",
       "      <td>Wednesday</td>\n",
       "      <td>12</td>\n",
       "      <td>1.0</td>\n",
       "      <td>9 days 00:29:00.000000000</td>\n",
       "      <td>9.020139</td>\n",
       "      <td>17.0</td>\n",
       "    </tr>\n",
       "    <tr>\n",
       "      <th>18</th>\n",
       "      <td>15 years</td>\n",
       "      <td>A218622</td>\n",
       "      <td>1998-10-19</td>\n",
       "      <td>Suffering</td>\n",
       "      <td>Euthanasia</td>\n",
       "      <td>Neutered Male</td>\n",
       "      <td>5475</td>\n",
       "      <td>15.0</td>\n",
       "      <td>(12.5, 15.0]</td>\n",
       "      <td>2013-12-02 17:09:00</td>\n",
       "      <td>...</td>\n",
       "      <td>2013-12-02 15:33:00</td>\n",
       "      <td>12</td>\n",
       "      <td>2013</td>\n",
       "      <td>2013-12</td>\n",
       "      <td>Monday</td>\n",
       "      <td>15</td>\n",
       "      <td>1.0</td>\n",
       "      <td>0 days 01:36:00.000000000</td>\n",
       "      <td>0.066667</td>\n",
       "      <td>15.0</td>\n",
       "    </tr>\n",
       "  </tbody>\n",
       "</table>\n",
       "<p>5 rows × 42 columns</p>\n",
       "</div>"
      ],
      "text/plain": [
       "   age_upon_outcome animal_id_outcome date_of_birth outcome_subtype   \n",
       "3          10 years           A047759    2004-04-02         Partner  \\\n",
       "12         16 years           A200922    1997-10-03          Foster   \n",
       "13         14 years           A208755    2000-04-27       Suffering   \n",
       "14         17 years           A210457    1999-06-01          Foster   \n",
       "18         15 years           A218622    1998-10-19       Suffering   \n",
       "\n",
       "   outcome_type sex_upon_outcome  age_upon_outcome_(days)   \n",
       "3      Transfer    Neutered Male                     3650  \\\n",
       "12     Adoption    Neutered Male                     5840   \n",
       "13   Euthanasia    Neutered Male                     5110   \n",
       "14     Adoption    Neutered Male                     6205   \n",
       "18   Euthanasia    Neutered Male                     5475   \n",
       "\n",
       "    age_upon_outcome_(years) age_upon_outcome_age_group    outcome_datetime   \n",
       "3                       10.0                (7.5, 10.0] 2014-04-07 15:12:00  \\\n",
       "12                      16.0               (15.0, 17.5] 2013-11-22 09:44:00   \n",
       "13                      14.0               (12.5, 15.0] 2015-02-17 16:25:00   \n",
       "14                      17.0               (15.0, 17.5] 2016-10-07 12:34:00   \n",
       "18                      15.0               (12.5, 15.0] 2013-12-02 17:09:00   \n",
       "\n",
       "    ...     intake_datetime  intake_month intake_year intake_monthyear   \n",
       "3   ... 2014-04-02 15:55:00             4        2014          2014-04  \\\n",
       "12  ... 2013-10-03 15:47:00            10        2013          2013-10   \n",
       "13  ... 2015-02-17 13:17:00             2        2015          2015-02   \n",
       "14  ... 2016-09-28 12:05:00             9        2016          2016-09   \n",
       "18  ... 2013-12-02 15:33:00            12        2013          2013-12   \n",
       "\n",
       "    intake_weekday  intake_hour  intake_number             time_in_shelter   \n",
       "3        Wednesday           15            1.0   4 days 23:17:00.000000000  \\\n",
       "12        Thursday           15            1.0  49 days 17:57:00.000000000   \n",
       "13         Tuesday           13            1.0   0 days 03:08:00.000000000   \n",
       "14       Wednesday           12            1.0   9 days 00:29:00.000000000   \n",
       "18          Monday           15            1.0   0 days 01:36:00.000000000   \n",
       "\n",
       "   time_in_shelter_days age_upon_intake_years  \n",
       "3              4.970139                  10.0  \n",
       "12            49.747917                  16.0  \n",
       "13             0.130556                  14.0  \n",
       "14             9.020139                  17.0  \n",
       "18             0.066667                  15.0  \n",
       "\n",
       "[5 rows x 42 columns]"
      ]
     },
     "execution_count": 33,
     "metadata": {},
     "output_type": "execute_result"
    }
   ],
   "source": [
    "# Get values from dataframe for only dogs and use one-hot encoding for adoption\n",
    "df_dogs = df[df['animal_type']=='Dog']\n",
    "df_dogs['age_upon_intake_years'] = df_dogs[\"age_upon_intake_(years)\"]\n",
    "df_dogs.head()"
   ]
  },
  {
   "cell_type": "code",
   "execution_count": 34,
   "metadata": {},
   "outputs": [],
   "source": [
    "def one_hot_adoption(adopted):\n",
    "    if adopted == \"Adoption\":\n",
    "        return 1\n",
    "    else:\n",
    "        return 0"
   ]
  },
  {
   "cell_type": "code",
   "execution_count": 35,
   "metadata": {},
   "outputs": [
    {
     "name": "stderr",
     "output_type": "stream",
     "text": [
      "/var/folders/wq/47cr8x6n4974q4mwz_wsnmsr0000gn/T/ipykernel_70058/2406638437.py:1: SettingWithCopyWarning: \n",
      "A value is trying to be set on a copy of a slice from a DataFrame.\n",
      "Try using .loc[row_indexer,col_indexer] = value instead\n",
      "\n",
      "See the caveats in the documentation: https://pandas.pydata.org/pandas-docs/stable/user_guide/indexing.html#returning-a-view-versus-a-copy\n",
      "  df_dogs['encoded_adoption'] = df_dogs['outcome_type'].apply(one_hot_adoption)\n"
     ]
    },
    {
     "data": {
      "text/html": [
       "<div>\n",
       "<style scoped>\n",
       "    .dataframe tbody tr th:only-of-type {\n",
       "        vertical-align: middle;\n",
       "    }\n",
       "\n",
       "    .dataframe tbody tr th {\n",
       "        vertical-align: top;\n",
       "    }\n",
       "\n",
       "    .dataframe thead th {\n",
       "        text-align: right;\n",
       "    }\n",
       "</style>\n",
       "<table border=\"1\" class=\"dataframe\">\n",
       "  <thead>\n",
       "    <tr style=\"text-align: right;\">\n",
       "      <th></th>\n",
       "      <th>age_upon_outcome</th>\n",
       "      <th>animal_id_outcome</th>\n",
       "      <th>date_of_birth</th>\n",
       "      <th>outcome_subtype</th>\n",
       "      <th>outcome_type</th>\n",
       "      <th>sex_upon_outcome</th>\n",
       "      <th>age_upon_outcome_(days)</th>\n",
       "      <th>age_upon_outcome_(years)</th>\n",
       "      <th>age_upon_outcome_age_group</th>\n",
       "      <th>outcome_datetime</th>\n",
       "      <th>...</th>\n",
       "      <th>intake_month</th>\n",
       "      <th>intake_year</th>\n",
       "      <th>intake_monthyear</th>\n",
       "      <th>intake_weekday</th>\n",
       "      <th>intake_hour</th>\n",
       "      <th>intake_number</th>\n",
       "      <th>time_in_shelter</th>\n",
       "      <th>time_in_shelter_days</th>\n",
       "      <th>age_upon_intake_years</th>\n",
       "      <th>encoded_adoption</th>\n",
       "    </tr>\n",
       "  </thead>\n",
       "  <tbody>\n",
       "    <tr>\n",
       "      <th>3</th>\n",
       "      <td>10 years</td>\n",
       "      <td>A047759</td>\n",
       "      <td>2004-04-02</td>\n",
       "      <td>Partner</td>\n",
       "      <td>Transfer</td>\n",
       "      <td>Neutered Male</td>\n",
       "      <td>3650</td>\n",
       "      <td>10.0</td>\n",
       "      <td>(7.5, 10.0]</td>\n",
       "      <td>2014-04-07 15:12:00</td>\n",
       "      <td>...</td>\n",
       "      <td>4</td>\n",
       "      <td>2014</td>\n",
       "      <td>2014-04</td>\n",
       "      <td>Wednesday</td>\n",
       "      <td>15</td>\n",
       "      <td>1.0</td>\n",
       "      <td>4 days 23:17:00.000000000</td>\n",
       "      <td>4.970139</td>\n",
       "      <td>10.0</td>\n",
       "      <td>0</td>\n",
       "    </tr>\n",
       "    <tr>\n",
       "      <th>12</th>\n",
       "      <td>16 years</td>\n",
       "      <td>A200922</td>\n",
       "      <td>1997-10-03</td>\n",
       "      <td>Foster</td>\n",
       "      <td>Adoption</td>\n",
       "      <td>Neutered Male</td>\n",
       "      <td>5840</td>\n",
       "      <td>16.0</td>\n",
       "      <td>(15.0, 17.5]</td>\n",
       "      <td>2013-11-22 09:44:00</td>\n",
       "      <td>...</td>\n",
       "      <td>10</td>\n",
       "      <td>2013</td>\n",
       "      <td>2013-10</td>\n",
       "      <td>Thursday</td>\n",
       "      <td>15</td>\n",
       "      <td>1.0</td>\n",
       "      <td>49 days 17:57:00.000000000</td>\n",
       "      <td>49.747917</td>\n",
       "      <td>16.0</td>\n",
       "      <td>1</td>\n",
       "    </tr>\n",
       "    <tr>\n",
       "      <th>13</th>\n",
       "      <td>14 years</td>\n",
       "      <td>A208755</td>\n",
       "      <td>2000-04-27</td>\n",
       "      <td>Suffering</td>\n",
       "      <td>Euthanasia</td>\n",
       "      <td>Neutered Male</td>\n",
       "      <td>5110</td>\n",
       "      <td>14.0</td>\n",
       "      <td>(12.5, 15.0]</td>\n",
       "      <td>2015-02-17 16:25:00</td>\n",
       "      <td>...</td>\n",
       "      <td>2</td>\n",
       "      <td>2015</td>\n",
       "      <td>2015-02</td>\n",
       "      <td>Tuesday</td>\n",
       "      <td>13</td>\n",
       "      <td>1.0</td>\n",
       "      <td>0 days 03:08:00.000000000</td>\n",
       "      <td>0.130556</td>\n",
       "      <td>14.0</td>\n",
       "      <td>0</td>\n",
       "    </tr>\n",
       "    <tr>\n",
       "      <th>14</th>\n",
       "      <td>17 years</td>\n",
       "      <td>A210457</td>\n",
       "      <td>1999-06-01</td>\n",
       "      <td>Foster</td>\n",
       "      <td>Adoption</td>\n",
       "      <td>Neutered Male</td>\n",
       "      <td>6205</td>\n",
       "      <td>17.0</td>\n",
       "      <td>(15.0, 17.5]</td>\n",
       "      <td>2016-10-07 12:34:00</td>\n",
       "      <td>...</td>\n",
       "      <td>9</td>\n",
       "      <td>2016</td>\n",
       "      <td>2016-09</td>\n",
       "      <td>Wednesday</td>\n",
       "      <td>12</td>\n",
       "      <td>1.0</td>\n",
       "      <td>9 days 00:29:00.000000000</td>\n",
       "      <td>9.020139</td>\n",
       "      <td>17.0</td>\n",
       "      <td>1</td>\n",
       "    </tr>\n",
       "    <tr>\n",
       "      <th>18</th>\n",
       "      <td>15 years</td>\n",
       "      <td>A218622</td>\n",
       "      <td>1998-10-19</td>\n",
       "      <td>Suffering</td>\n",
       "      <td>Euthanasia</td>\n",
       "      <td>Neutered Male</td>\n",
       "      <td>5475</td>\n",
       "      <td>15.0</td>\n",
       "      <td>(12.5, 15.0]</td>\n",
       "      <td>2013-12-02 17:09:00</td>\n",
       "      <td>...</td>\n",
       "      <td>12</td>\n",
       "      <td>2013</td>\n",
       "      <td>2013-12</td>\n",
       "      <td>Monday</td>\n",
       "      <td>15</td>\n",
       "      <td>1.0</td>\n",
       "      <td>0 days 01:36:00.000000000</td>\n",
       "      <td>0.066667</td>\n",
       "      <td>15.0</td>\n",
       "      <td>0</td>\n",
       "    </tr>\n",
       "  </tbody>\n",
       "</table>\n",
       "<p>5 rows × 43 columns</p>\n",
       "</div>"
      ],
      "text/plain": [
       "   age_upon_outcome animal_id_outcome date_of_birth outcome_subtype   \n",
       "3          10 years           A047759    2004-04-02         Partner  \\\n",
       "12         16 years           A200922    1997-10-03          Foster   \n",
       "13         14 years           A208755    2000-04-27       Suffering   \n",
       "14         17 years           A210457    1999-06-01          Foster   \n",
       "18         15 years           A218622    1998-10-19       Suffering   \n",
       "\n",
       "   outcome_type sex_upon_outcome  age_upon_outcome_(days)   \n",
       "3      Transfer    Neutered Male                     3650  \\\n",
       "12     Adoption    Neutered Male                     5840   \n",
       "13   Euthanasia    Neutered Male                     5110   \n",
       "14     Adoption    Neutered Male                     6205   \n",
       "18   Euthanasia    Neutered Male                     5475   \n",
       "\n",
       "    age_upon_outcome_(years) age_upon_outcome_age_group    outcome_datetime   \n",
       "3                       10.0                (7.5, 10.0] 2014-04-07 15:12:00  \\\n",
       "12                      16.0               (15.0, 17.5] 2013-11-22 09:44:00   \n",
       "13                      14.0               (12.5, 15.0] 2015-02-17 16:25:00   \n",
       "14                      17.0               (15.0, 17.5] 2016-10-07 12:34:00   \n",
       "18                      15.0               (12.5, 15.0] 2013-12-02 17:09:00   \n",
       "\n",
       "    ...  intake_month  intake_year intake_monthyear intake_weekday   \n",
       "3   ...             4         2014          2014-04      Wednesday  \\\n",
       "12  ...            10         2013          2013-10       Thursday   \n",
       "13  ...             2         2015          2015-02        Tuesday   \n",
       "14  ...             9         2016          2016-09      Wednesday   \n",
       "18  ...            12         2013          2013-12         Monday   \n",
       "\n",
       "    intake_hour  intake_number             time_in_shelter   \n",
       "3            15            1.0   4 days 23:17:00.000000000  \\\n",
       "12           15            1.0  49 days 17:57:00.000000000   \n",
       "13           13            1.0   0 days 03:08:00.000000000   \n",
       "14           12            1.0   9 days 00:29:00.000000000   \n",
       "18           15            1.0   0 days 01:36:00.000000000   \n",
       "\n",
       "    time_in_shelter_days age_upon_intake_years encoded_adoption  \n",
       "3               4.970139                  10.0                0  \n",
       "12             49.747917                  16.0                1  \n",
       "13              0.130556                  14.0                0  \n",
       "14              9.020139                  17.0                1  \n",
       "18              0.066667                  15.0                0  \n",
       "\n",
       "[5 rows x 43 columns]"
      ]
     },
     "execution_count": 35,
     "metadata": {},
     "output_type": "execute_result"
    }
   ],
   "source": [
    "df_dogs['encoded_adoption'] = df_dogs['outcome_type'].apply(one_hot_adoption)\n",
    "df_dogs.head(5)"
   ]
  },
  {
   "cell_type": "code",
   "execution_count": 36,
   "metadata": {},
   "outputs": [
    {
     "data": {
      "text/plain": [
       "Index(['age_upon_outcome', 'animal_id_outcome', 'date_of_birth',\n",
       "       'outcome_subtype', 'outcome_type', 'sex_upon_outcome',\n",
       "       'age_upon_outcome_(days)', 'age_upon_outcome_(years)',\n",
       "       'age_upon_outcome_age_group', 'outcome_datetime', 'outcome_month',\n",
       "       'outcome_year', 'outcome_monthyear', 'outcome_weekday', 'outcome_hour',\n",
       "       'outcome_number', 'dob_year', 'dob_month', 'dob_monthyear',\n",
       "       'age_upon_intake', 'animal_id_intake', 'animal_type', 'breed', 'color',\n",
       "       'found_location', 'intake_condition', 'intake_type', 'sex_upon_intake',\n",
       "       'count', 'age_upon_intake_(days)', 'age_upon_intake_(years)',\n",
       "       'age_upon_intake_age_group', 'intake_datetime', 'intake_month',\n",
       "       'intake_year', 'intake_monthyear', 'intake_weekday', 'intake_hour',\n",
       "       'intake_number', 'time_in_shelter', 'time_in_shelter_days',\n",
       "       'age_upon_intake_years', 'encoded_adoption'],\n",
       "      dtype='object')"
      ]
     },
     "execution_count": 36,
     "metadata": {},
     "output_type": "execute_result"
    }
   ],
   "source": [
    "df_dogs.columns"
   ]
  },
  {
   "cell_type": "markdown",
   "metadata": {},
   "source": [
    "Using linear regression, we will see if the age of the dog upon intake is predictive of its adoption rate."
   ]
  },
  {
   "cell_type": "code",
   "execution_count": 37,
   "metadata": {},
   "outputs": [
    {
     "name": "stdout",
     "output_type": "stream",
     "text": [
      "                            OLS Regression Results                            \n",
      "==============================================================================\n",
      "Dep. Variable:       encoded_adoption   R-squared:                       0.001\n",
      "Model:                            OLS   Adj. R-squared:                  0.001\n",
      "Method:                 Least Squares   F-statistic:                     16.70\n",
      "Date:                Sun, 01 Dec 2024   Prob (F-statistic):           4.40e-05\n",
      "Time:                        19:13:58   Log-Likelihood:                -6246.4\n",
      "No. Observations:               13768   AIC:                         1.250e+04\n",
      "Df Residuals:                   13766   BIC:                         1.251e+04\n",
      "Df Model:                           1                                         \n",
      "Covariance Type:            nonrobust                                         \n",
      "=========================================================================================\n",
      "                            coef    std err          t      P>|t|      [0.025      0.975]\n",
      "-----------------------------------------------------------------------------------------\n",
      "Intercept                 0.1871      0.004     44.830      0.000       0.179       0.195\n",
      "age_upon_intake_years    -0.0042      0.001     -4.087      0.000      -0.006      -0.002\n",
      "==============================================================================\n",
      "Omnibus:                     3568.966   Durbin-Watson:                   1.491\n",
      "Prob(Omnibus):                  0.000   Jarque-Bera (JB):             7043.745\n",
      "Skew:                           1.696   Prob(JB):                         0.00\n",
      "Kurtosis:                       3.883   Cond. No.                         5.32\n",
      "==============================================================================\n",
      "\n",
      "Notes:\n",
      "[1] Standard Errors assume that the covariance matrix of the errors is correctly specified.\n"
     ]
    }
   ],
   "source": [
    "model_age = smf.ols(formula='encoded_adoption ~ age_upon_intake_years + 1', data=df_dogs)\n",
    "results_age = model_age.fit()\n",
    "print(results_age.summary())"
   ]
  },
  {
   "cell_type": "code",
   "execution_count": 38,
   "metadata": {},
   "outputs": [
    {
     "data": {
      "text/plain": [
       "4.395518899237089e-05"
      ]
     },
     "execution_count": 38,
     "metadata": {},
     "output_type": "execute_result"
    }
   ],
   "source": [
    "results_age.pvalues[1]"
   ]
  },
  {
   "cell_type": "markdown",
   "metadata": {},
   "source": [
    "From the results summary above, we can see that the R-squared value is 0.001, which is very low, so there is virtually no coefficient of correlation. However, when we print the p-value for this model, we see that the p-value is much less than 0.05, so the age variable is statistically significant in terms of determining the adoption likelihood."
   ]
  },
  {
   "cell_type": "markdown",
   "metadata": {},
   "source": [
    "## Gender vs Adoption"
   ]
  },
  {
   "cell_type": "code",
   "execution_count": 39,
   "metadata": {},
   "outputs": [],
   "source": [
    "def one_hot_gender(gender):\n",
    "    if \"Fe\" in gender:\n",
    "        return 'F'\n",
    "    else:\n",
    "        return 'M'"
   ]
  },
  {
   "cell_type": "code",
   "execution_count": 40,
   "metadata": {},
   "outputs": [
    {
     "name": "stderr",
     "output_type": "stream",
     "text": [
      "/var/folders/wq/47cr8x6n4974q4mwz_wsnmsr0000gn/T/ipykernel_70058/3656155518.py:1: SettingWithCopyWarning: \n",
      "A value is trying to be set on a copy of a slice from a DataFrame.\n",
      "Try using .loc[row_indexer,col_indexer] = value instead\n",
      "\n",
      "See the caveats in the documentation: https://pandas.pydata.org/pandas-docs/stable/user_guide/indexing.html#returning-a-view-versus-a-copy\n",
      "  df_dogs['gender_classified'] = df_dogs['sex_upon_intake'].apply(one_hot_gender)\n"
     ]
    }
   ],
   "source": [
    "df_dogs['gender_classified'] = df_dogs['sex_upon_intake'].apply(one_hot_gender)"
   ]
  },
  {
   "cell_type": "code",
   "execution_count": 41,
   "metadata": {},
   "outputs": [],
   "source": [
    "df_dogs = pd.get_dummies(df_dogs, columns = ['gender_classified'], drop_first=False)"
   ]
  },
  {
   "cell_type": "code",
   "execution_count": 42,
   "metadata": {},
   "outputs": [
    {
     "data": {
      "text/plain": [
       "Index(['age_upon_outcome', 'animal_id_outcome', 'date_of_birth',\n",
       "       'outcome_subtype', 'outcome_type', 'sex_upon_outcome',\n",
       "       'age_upon_outcome_(days)', 'age_upon_outcome_(years)',\n",
       "       'age_upon_outcome_age_group', 'outcome_datetime', 'outcome_month',\n",
       "       'outcome_year', 'outcome_monthyear', 'outcome_weekday', 'outcome_hour',\n",
       "       'outcome_number', 'dob_year', 'dob_month', 'dob_monthyear',\n",
       "       'age_upon_intake', 'animal_id_intake', 'animal_type', 'breed', 'color',\n",
       "       'found_location', 'intake_condition', 'intake_type', 'sex_upon_intake',\n",
       "       'count', 'age_upon_intake_(days)', 'age_upon_intake_(years)',\n",
       "       'age_upon_intake_age_group', 'intake_datetime', 'intake_month',\n",
       "       'intake_year', 'intake_monthyear', 'intake_weekday', 'intake_hour',\n",
       "       'intake_number', 'time_in_shelter', 'time_in_shelter_days',\n",
       "       'age_upon_intake_years', 'encoded_adoption', 'gender_classified_F',\n",
       "       'gender_classified_M'],\n",
       "      dtype='object')"
      ]
     },
     "execution_count": 42,
     "metadata": {},
     "output_type": "execute_result"
    }
   ],
   "source": [
    "df_dogs.columns"
   ]
  },
  {
   "cell_type": "code",
   "execution_count": 43,
   "metadata": {},
   "outputs": [
    {
     "name": "stdout",
     "output_type": "stream",
     "text": [
      "                            OLS Regression Results                            \n",
      "==============================================================================\n",
      "Dep. Variable:       encoded_adoption   R-squared:                       0.002\n",
      "Model:                            OLS   Adj. R-squared:                  0.002\n",
      "Method:                 Least Squares   F-statistic:                     11.95\n",
      "Date:                Sun, 01 Dec 2024   Prob (F-statistic):           6.56e-06\n",
      "Time:                        19:13:58   Log-Likelihood:                -6242.8\n",
      "No. Observations:               13768   AIC:                         1.249e+04\n",
      "Df Residuals:                   13765   BIC:                         1.251e+04\n",
      "Df Model:                           2                                         \n",
      "Covariance Type:            nonrobust                                         \n",
      "===============================================================================================\n",
      "                                  coef    std err          t      P>|t|      [0.025      0.975]\n",
      "-----------------------------------------------------------------------------------------------\n",
      "Intercept                    1.133e+11   5.07e+10      2.232      0.026    1.38e+10    2.13e+11\n",
      "gender_classified_F[T.True] -1.133e+11   5.07e+10     -2.232      0.026   -2.13e+11   -1.38e+10\n",
      "gender_classified_M[T.True] -1.133e+11   5.07e+10     -2.232      0.026   -2.13e+11   -1.38e+10\n",
      "==============================================================================\n",
      "Omnibus:                     3544.272   Durbin-Watson:                   1.488\n",
      "Prob(Omnibus):                  0.000   Jarque-Bera (JB):             6965.254\n",
      "Skew:                           1.686   Prob(JB):                         0.00\n",
      "Kurtosis:                       3.876   Cond. No.                     3.32e+13\n",
      "==============================================================================\n",
      "\n",
      "Notes:\n",
      "[1] Standard Errors assume that the covariance matrix of the errors is correctly specified.\n",
      "[2] The smallest eigenvalue is 1.88e-23. This might indicate that there are\n",
      "strong multicollinearity problems or that the design matrix is singular.\n"
     ]
    }
   ],
   "source": [
    "model_gender = smf.ols(formula='encoded_adoption ~ gender_classified_F + gender_classified_M + 1', data=df_dogs)\n",
    "results_gender = model_gender.fit()\n",
    "print(results_gender.summary())"
   ]
  },
  {
   "cell_type": "code",
   "execution_count": 44,
   "metadata": {},
   "outputs": [
    {
     "data": {
      "text/plain": [
       "0.025636496988339808"
      ]
     },
     "execution_count": 44,
     "metadata": {},
     "output_type": "execute_result"
    }
   ],
   "source": [
    "results_gender.pvalues[1]"
   ]
  },
  {
   "cell_type": "code",
   "execution_count": 45,
   "metadata": {},
   "outputs": [
    {
     "data": {
      "text/plain": [
       "0.02563649698828926"
      ]
     },
     "execution_count": 45,
     "metadata": {},
     "output_type": "execute_result"
    }
   ],
   "source": [
    "results_gender.pvalues[2]"
   ]
  },
  {
   "cell_type": "markdown",
   "metadata": {},
   "source": [
    "From the results summary above, we can see that the R-squared value is 0.002, which is very low, so there is virtually no coefficient of correlation. However, when we print the p-value for this model, we see that the p-value is greater than 0.05, so the gender variable is not statistically significant in terms of determining the adoption likelihood."
   ]
  },
  {
   "cell_type": "markdown",
   "metadata": {},
   "source": [
    "## Color vs Adoption"
   ]
  },
  {
   "cell_type": "code",
   "execution_count": 46,
   "metadata": {},
   "outputs": [
    {
     "data": {
      "text/plain": [
       "Index(['age_upon_outcome', 'animal_id_outcome', 'date_of_birth',\n",
       "       'outcome_subtype', 'outcome_type', 'sex_upon_outcome',\n",
       "       'age_upon_outcome_(days)', 'age_upon_outcome_(years)',\n",
       "       'age_upon_outcome_age_group', 'outcome_datetime',\n",
       "       ...\n",
       "       'color_White/Tan', 'color_White/Tortie', 'color_White/Tricolor',\n",
       "       'color_White/White', 'color_White/Yellow', 'color_Yellow',\n",
       "       'color_Yellow Brindle', 'color_Yellow Brindle/White',\n",
       "       'color_Yellow/Tan', 'color_Yellow/White'],\n",
       "      dtype='object', length=286)"
      ]
     },
     "execution_count": 46,
     "metadata": {},
     "output_type": "execute_result"
    }
   ],
   "source": [
    "df_dogs = pd.get_dummies(df_dogs, columns = ['color'], drop_first=False)\n",
    "df_dogs.columns"
   ]
  },
  {
   "cell_type": "code",
   "execution_count": 47,
   "metadata": {},
   "outputs": [
    {
     "data": {
      "text/plain": [
       "(13768, 286)"
      ]
     },
     "execution_count": 47,
     "metadata": {},
     "output_type": "execute_result"
    }
   ],
   "source": [
    "df_dogs.shape"
   ]
  },
  {
   "cell_type": "code",
   "execution_count": 48,
   "metadata": {},
   "outputs": [
    {
     "name": "stdout",
     "output_type": "stream",
     "text": [
      "                            OLS Regression Results                            \n",
      "==============================================================================\n",
      "Dep. Variable:       encoded_adoption   R-squared:                       0.001\n",
      "Model:                            OLS   Adj. R-squared:                  0.001\n",
      "Method:                 Least Squares   F-statistic:                     2.375\n",
      "Date:                Sun, 01 Dec 2024   Prob (F-statistic):             0.0270\n",
      "Time:                        19:13:58   Log-Likelihood:                -6247.6\n",
      "No. Observations:               13768   AIC:                         1.251e+04\n",
      "Df Residuals:                   13761   BIC:                         1.256e+04\n",
      "Df Model:                           6                                         \n",
      "Covariance Type:            nonrobust                                         \n",
      "=========================================================================================\n",
      "                            coef    std err          t      P>|t|      [0.025      0.975]\n",
      "-----------------------------------------------------------------------------------------\n",
      "Intercept                 0.1783      0.004     50.158      0.000       0.171       0.185\n",
      "color_Apricot[T.True]    -0.1783      0.092     -1.928      0.054      -0.360       0.003\n",
      "color_Black[T.True]      -0.0101      0.014     -0.736      0.462      -0.037       0.017\n",
      "color_Blue[T.True]       -0.0886      0.043     -2.047      0.041      -0.173      -0.004\n",
      "color_Brown[T.True]      -0.0297      0.016     -1.890      0.059      -0.061       0.001\n",
      "color_Gray[T.True]       -0.0487      0.052     -0.937      0.349      -0.151       0.053\n",
      "color_Tan[T.True]         0.0176      0.015      1.172      0.241      -0.012       0.047\n",
      "==============================================================================\n",
      "Omnibus:                     3567.728   Durbin-Watson:                   1.489\n",
      "Prob(Omnibus):                  0.000   Jarque-Bera (JB):             7040.148\n",
      "Skew:                           1.695   Prob(JB):                         0.00\n",
      "Kurtosis:                       3.880   Cond. No.                         28.6\n",
      "==============================================================================\n",
      "\n",
      "Notes:\n",
      "[1] Standard Errors assume that the covariance matrix of the errors is correctly specified.\n"
     ]
    }
   ],
   "source": [
    "model_color = smf.ols(formula='encoded_adoption ~ color_Apricot + color_Black + color_Blue + color_Brown + color_Gray + color_Tan + 1', data=df_dogs)\n",
    "results_color = model_color.fit()\n",
    "print(results_color.summary())"
   ]
  },
  {
   "cell_type": "code",
   "execution_count": 49,
   "metadata": {},
   "outputs": [
    {
     "name": "stdout",
     "output_type": "stream",
     "text": [
      "Apricot: 0.053827495708603394\n",
      "Black: 0.46184628233347846\n",
      "Blue: 0.040720637438249316\n",
      "Brown: 0.05882841232278112\n",
      "Gray: 0.34869685739200995\n",
      "Tan: 0.24132890356203648\n"
     ]
    }
   ],
   "source": [
    "print(\"Apricot: \" + str(results_color.pvalues[1]))\n",
    "print(\"Black: \" + str(results_color.pvalues[2]))\n",
    "print(\"Blue: \" + str(results_color.pvalues[3]))\n",
    "print(\"Brown: \" + str(results_color.pvalues[4]))\n",
    "print(\"Gray: \" + str(results_color.pvalues[5]))\n",
    "print(\"Tan: \" + str(results_color.pvalues[6]))"
   ]
  },
  {
   "cell_type": "markdown",
   "metadata": {},
   "source": [
    "Because of the massive vaariety of colors in dogs, a few main colors were selected to perform exploratory regression on. Once again, the correlation coefficient is 0.001, so there is practically very little correlation between the color variables and adoption likelihood. However, the p-values for all these variables are greater than 0.05, so there is no statistical significance of these variables."
   ]
  },
  {
   "cell_type": "markdown",
   "metadata": {},
   "source": [
    "## Results\n",
    "Based on the above regression models, it can be declared that the variables color and gender have little to no statistical significance on adoption likelihood, while age is statistically significant regarding adoption likelihood. This follows common trends where older animals have a lower chance of adoption in comparison to younger animals."
   ]
  },
  {
   "cell_type": "code",
   "execution_count": null,
   "metadata": {},
   "outputs": [],
   "source": []
  }
 ],
 "metadata": {
  "kernelspec": {
   "display_name": "Python 3 (ipykernel)",
   "language": "python",
   "name": "python3"
  },
  "language_info": {
   "codemirror_mode": {
    "name": "ipython",
    "version": 3
   },
   "file_extension": ".py",
   "mimetype": "text/x-python",
   "name": "python",
   "nbconvert_exporter": "python",
   "pygments_lexer": "ipython3",
   "version": "3.10.9"
  }
 },
 "nbformat": 4,
 "nbformat_minor": 4
}
