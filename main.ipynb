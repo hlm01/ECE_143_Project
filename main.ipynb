{
 "cells": [
  {
   "cell_type": "code",
   "execution_count": 37,
   "metadata": {},
   "outputs": [],
   "source": [
    "import polars as pl"
   ]
  },
  {
   "cell_type": "code",
   "execution_count": 38,
   "metadata": {},
   "outputs": [
    {
     "name": "stdout",
     "output_type": "stream",
     "text": [
      "(79672, 41)\n"
     ]
    },
    {
     "data": {
      "text/html": [
       "<div><style>\n",
       ".dataframe > thead > tr,\n",
       ".dataframe > tbody > tr {\n",
       "  text-align: right;\n",
       "  white-space: pre-wrap;\n",
       "}\n",
       "</style>\n",
       "<small>shape: (5, 41)</small><table border=\"1\" class=\"dataframe\"><thead><tr><th>age_upon_outcome</th><th>animal_id_outcome</th><th>date_of_birth</th><th>outcome_subtype</th><th>outcome_type</th><th>sex_upon_outcome</th><th>age_upon_outcome_(days)</th><th>age_upon_outcome_(years)</th><th>age_upon_outcome_age_group</th><th>outcome_datetime</th><th>outcome_month</th><th>outcome_year</th><th>outcome_monthyear</th><th>outcome_weekday</th><th>outcome_hour</th><th>outcome_number</th><th>dob_year</th><th>dob_month</th><th>dob_monthyear</th><th>age_upon_intake</th><th>animal_id_intake</th><th>animal_type</th><th>breed</th><th>color</th><th>found_location</th><th>intake_condition</th><th>intake_type</th><th>sex_upon_intake</th><th>count</th><th>age_upon_intake_(days)</th><th>age_upon_intake_(years)</th><th>age_upon_intake_age_group</th><th>intake_datetime</th><th>intake_month</th><th>intake_year</th><th>intake_monthyear</th><th>intake_weekday</th><th>intake_hour</th><th>intake_number</th><th>time_in_shelter</th><th>time_in_shelter_days</th></tr><tr><td>str</td><td>str</td><td>str</td><td>str</td><td>str</td><td>str</td><td>i64</td><td>f64</td><td>str</td><td>str</td><td>i64</td><td>i64</td><td>str</td><td>str</td><td>i64</td><td>f64</td><td>i64</td><td>i64</td><td>str</td><td>str</td><td>str</td><td>str</td><td>str</td><td>str</td><td>str</td><td>str</td><td>str</td><td>str</td><td>i64</td><td>i64</td><td>f64</td><td>str</td><td>str</td><td>i64</td><td>i64</td><td>str</td><td>str</td><td>i64</td><td>f64</td><td>str</td><td>f64</td></tr></thead><tbody><tr><td>&quot;10 years&quot;</td><td>&quot;A006100&quot;</td><td>&quot;2007-07-09 00:00:00&quot;</td><td>null</td><td>&quot;Return to Owner&quot;</td><td>&quot;Neutered Male&quot;</td><td>3650</td><td>10.0</td><td>&quot;(7.5, 10.0]&quot;</td><td>&quot;2017-12-07 14:07:00&quot;</td><td>12</td><td>2017</td><td>&quot;2017-12&quot;</td><td>&quot;Thursday&quot;</td><td>0</td><td>1.0</td><td>2007</td><td>7</td><td>&quot;2017-12&quot;</td><td>&quot;10 years&quot;</td><td>&quot;A006100&quot;</td><td>&quot;Dog&quot;</td><td>&quot;Spinone Italiano Mix&quot;</td><td>&quot;Yellow/White&quot;</td><td>&quot;Colony Creek And Hunters Trace…</td><td>&quot;Normal&quot;</td><td>&quot;Stray&quot;</td><td>&quot;Neutered Male&quot;</td><td>1</td><td>3650</td><td>10.0</td><td>&quot;(7.5, 10.0]&quot;</td><td>&quot;2017-12-07 00:00:00&quot;</td><td>12</td><td>2017</td><td>&quot;2017-12&quot;</td><td>&quot;Thursday&quot;</td><td>14</td><td>1.0</td><td>&quot;0 days 14:07:00.000000000&quot;</td><td>0.588194</td></tr><tr><td>&quot;7 years&quot;</td><td>&quot;A006100&quot;</td><td>&quot;2007-07-09 00:00:00&quot;</td><td>null</td><td>&quot;Return to Owner&quot;</td><td>&quot;Neutered Male&quot;</td><td>2555</td><td>7.0</td><td>&quot;(5.0, 7.5]&quot;</td><td>&quot;2014-12-20 16:35:00&quot;</td><td>12</td><td>2014</td><td>&quot;2014-12&quot;</td><td>&quot;Saturday&quot;</td><td>16</td><td>2.0</td><td>2007</td><td>7</td><td>&quot;2014-12&quot;</td><td>&quot;7 years&quot;</td><td>&quot;A006100&quot;</td><td>&quot;Dog&quot;</td><td>&quot;Spinone Italiano Mix&quot;</td><td>&quot;Yellow/White&quot;</td><td>&quot;8700 Research Blvd in Austin (…</td><td>&quot;Normal&quot;</td><td>&quot;Public Assist&quot;</td><td>&quot;Neutered Male&quot;</td><td>1</td><td>2555</td><td>7.0</td><td>&quot;(5.0, 7.5]&quot;</td><td>&quot;2014-12-19 10:21:00&quot;</td><td>12</td><td>2014</td><td>&quot;2014-12&quot;</td><td>&quot;Friday&quot;</td><td>10</td><td>2.0</td><td>&quot;1 days 06:14:00.000000000&quot;</td><td>1.259722</td></tr><tr><td>&quot;6 years&quot;</td><td>&quot;A006100&quot;</td><td>&quot;2007-07-09 00:00:00&quot;</td><td>null</td><td>&quot;Return to Owner&quot;</td><td>&quot;Neutered Male&quot;</td><td>2190</td><td>6.0</td><td>&quot;(5.0, 7.5]&quot;</td><td>&quot;2014-03-08 17:10:00&quot;</td><td>3</td><td>2014</td><td>&quot;2014-03&quot;</td><td>&quot;Saturday&quot;</td><td>17</td><td>3.0</td><td>2007</td><td>7</td><td>&quot;2014-03&quot;</td><td>&quot;6 years&quot;</td><td>&quot;A006100&quot;</td><td>&quot;Dog&quot;</td><td>&quot;Spinone Italiano Mix&quot;</td><td>&quot;Yellow/White&quot;</td><td>&quot;8700 Research in Austin (TX)&quot;</td><td>&quot;Normal&quot;</td><td>&quot;Public Assist&quot;</td><td>&quot;Neutered Male&quot;</td><td>1</td><td>2190</td><td>6.0</td><td>&quot;(5.0, 7.5]&quot;</td><td>&quot;2014-03-07 14:26:00&quot;</td><td>3</td><td>2014</td><td>&quot;2014-03&quot;</td><td>&quot;Friday&quot;</td><td>14</td><td>3.0</td><td>&quot;1 days 02:44:00.000000000&quot;</td><td>1.113889</td></tr><tr><td>&quot;10 years&quot;</td><td>&quot;A047759&quot;</td><td>&quot;2004-04-02 00:00:00&quot;</td><td>&quot;Partner&quot;</td><td>&quot;Transfer&quot;</td><td>&quot;Neutered Male&quot;</td><td>3650</td><td>10.0</td><td>&quot;(7.5, 10.0]&quot;</td><td>&quot;2014-04-07 15:12:00&quot;</td><td>4</td><td>2014</td><td>&quot;2014-04&quot;</td><td>&quot;Monday&quot;</td><td>15</td><td>1.0</td><td>2004</td><td>4</td><td>&quot;2014-04&quot;</td><td>&quot;10 years&quot;</td><td>&quot;A047759&quot;</td><td>&quot;Dog&quot;</td><td>&quot;Dachshund&quot;</td><td>&quot;Tricolor&quot;</td><td>&quot;Austin (TX)&quot;</td><td>&quot;Normal&quot;</td><td>&quot;Owner Surrender&quot;</td><td>&quot;Neutered Male&quot;</td><td>1</td><td>3650</td><td>10.0</td><td>&quot;(7.5, 10.0]&quot;</td><td>&quot;2014-04-02 15:55:00&quot;</td><td>4</td><td>2014</td><td>&quot;2014-04&quot;</td><td>&quot;Wednesday&quot;</td><td>15</td><td>1.0</td><td>&quot;4 days 23:17:00.000000000&quot;</td><td>4.970139</td></tr><tr><td>&quot;16 years&quot;</td><td>&quot;A134067&quot;</td><td>&quot;1997-10-16 00:00:00&quot;</td><td>null</td><td>&quot;Return to Owner&quot;</td><td>&quot;Neutered Male&quot;</td><td>5840</td><td>16.0</td><td>&quot;(15.0, 17.5]&quot;</td><td>&quot;2013-11-16 11:54:00&quot;</td><td>11</td><td>2013</td><td>&quot;2013-11&quot;</td><td>&quot;Saturday&quot;</td><td>11</td><td>1.0</td><td>1997</td><td>10</td><td>&quot;2013-11&quot;</td><td>&quot;16 years&quot;</td><td>&quot;A134067&quot;</td><td>&quot;Dog&quot;</td><td>&quot;Shetland Sheepdog&quot;</td><td>&quot;Brown/White&quot;</td><td>&quot;12034 Research Blvd in Austin …</td><td>&quot;Injured&quot;</td><td>&quot;Public Assist&quot;</td><td>&quot;Neutered Male&quot;</td><td>1</td><td>5840</td><td>16.0</td><td>&quot;(15.0, 17.5]&quot;</td><td>&quot;2013-11-16 09:02:00&quot;</td><td>11</td><td>2013</td><td>&quot;2013-11&quot;</td><td>&quot;Saturday&quot;</td><td>9</td><td>1.0</td><td>&quot;0 days 02:52:00.000000000&quot;</td><td>0.119444</td></tr></tbody></table></div>"
      ],
      "text/plain": [
       "shape: (5, 41)\n",
       "┌───────────┬───────────┬───────────┬───────────┬───┬───────────┬───────────┬───────────┬──────────┐\n",
       "│ age_upon_ ┆ animal_id ┆ date_of_b ┆ outcome_s ┆ … ┆ intake_ho ┆ intake_nu ┆ time_in_s ┆ time_in_ │\n",
       "│ outcome   ┆ _outcome  ┆ irth      ┆ ubtype    ┆   ┆ ur        ┆ mber      ┆ helter    ┆ shelter_ │\n",
       "│ ---       ┆ ---       ┆ ---       ┆ ---       ┆   ┆ ---       ┆ ---       ┆ ---       ┆ days     │\n",
       "│ str       ┆ str       ┆ str       ┆ str       ┆   ┆ i64       ┆ f64       ┆ str       ┆ ---      │\n",
       "│           ┆           ┆           ┆           ┆   ┆           ┆           ┆           ┆ f64      │\n",
       "╞═══════════╪═══════════╪═══════════╪═══════════╪═══╪═══════════╪═══════════╪═══════════╪══════════╡\n",
       "│ 10 years  ┆ A006100   ┆ 2007-07-0 ┆ null      ┆ … ┆ 14        ┆ 1.0       ┆ 0 days    ┆ 0.588194 │\n",
       "│           ┆           ┆ 9         ┆           ┆   ┆           ┆           ┆ 14:07:00. ┆          │\n",
       "│           ┆           ┆ 00:00:00  ┆           ┆   ┆           ┆           ┆ 000000000 ┆          │\n",
       "│ 7 years   ┆ A006100   ┆ 2007-07-0 ┆ null      ┆ … ┆ 10        ┆ 2.0       ┆ 1 days    ┆ 1.259722 │\n",
       "│           ┆           ┆ 9         ┆           ┆   ┆           ┆           ┆ 06:14:00. ┆          │\n",
       "│           ┆           ┆ 00:00:00  ┆           ┆   ┆           ┆           ┆ 000000000 ┆          │\n",
       "│ 6 years   ┆ A006100   ┆ 2007-07-0 ┆ null      ┆ … ┆ 14        ┆ 3.0       ┆ 1 days    ┆ 1.113889 │\n",
       "│           ┆           ┆ 9         ┆           ┆   ┆           ┆           ┆ 02:44:00. ┆          │\n",
       "│           ┆           ┆ 00:00:00  ┆           ┆   ┆           ┆           ┆ 000000000 ┆          │\n",
       "│ 10 years  ┆ A047759   ┆ 2004-04-0 ┆ Partner   ┆ … ┆ 15        ┆ 1.0       ┆ 4 days    ┆ 4.970139 │\n",
       "│           ┆           ┆ 2         ┆           ┆   ┆           ┆           ┆ 23:17:00. ┆          │\n",
       "│           ┆           ┆ 00:00:00  ┆           ┆   ┆           ┆           ┆ 000000000 ┆          │\n",
       "│ 16 years  ┆ A134067   ┆ 1997-10-1 ┆ null      ┆ … ┆ 9         ┆ 1.0       ┆ 0 days    ┆ 0.119444 │\n",
       "│           ┆           ┆ 6         ┆           ┆   ┆           ┆           ┆ 02:52:00. ┆          │\n",
       "│           ┆           ┆ 00:00:00  ┆           ┆   ┆           ┆           ┆ 000000000 ┆          │\n",
       "└───────────┴───────────┴───────────┴───────────┴───┴───────────┴───────────┴───────────┴──────────┘"
      ]
     },
     "execution_count": 38,
     "metadata": {},
     "output_type": "execute_result"
    }
   ],
   "source": [
    "df = pl.read_csv(\"aac_intakes_outcomes.csv\")\n",
    "\n",
    "print(df.shape)\n",
    "df.head()\n"
   ]
  },
  {
   "cell_type": "code",
   "execution_count": 39,
   "metadata": {},
   "outputs": [
    {
     "data": {
      "text/html": [
       "<div><style>\n",
       ".dataframe > thead > tr,\n",
       ".dataframe > tbody > tr {\n",
       "  text-align: right;\n",
       "  white-space: pre-wrap;\n",
       "}\n",
       "</style>\n",
       "<small>shape: (1, 41)</small><table border=\"1\" class=\"dataframe\"><thead><tr><th>age_upon_outcome</th><th>animal_id_outcome</th><th>date_of_birth</th><th>outcome_subtype</th><th>outcome_type</th><th>sex_upon_outcome</th><th>age_upon_outcome_(days)</th><th>age_upon_outcome_(years)</th><th>age_upon_outcome_age_group</th><th>outcome_datetime</th><th>outcome_month</th><th>outcome_year</th><th>outcome_monthyear</th><th>outcome_weekday</th><th>outcome_hour</th><th>outcome_number</th><th>dob_year</th><th>dob_month</th><th>dob_monthyear</th><th>age_upon_intake</th><th>animal_id_intake</th><th>animal_type</th><th>breed</th><th>color</th><th>found_location</th><th>intake_condition</th><th>intake_type</th><th>sex_upon_intake</th><th>count</th><th>age_upon_intake_(days)</th><th>age_upon_intake_(years)</th><th>age_upon_intake_age_group</th><th>intake_datetime</th><th>intake_month</th><th>intake_year</th><th>intake_monthyear</th><th>intake_weekday</th><th>intake_hour</th><th>intake_number</th><th>time_in_shelter</th><th>time_in_shelter_days</th></tr><tr><td>u32</td><td>u32</td><td>u32</td><td>u32</td><td>u32</td><td>u32</td><td>u32</td><td>u32</td><td>u32</td><td>u32</td><td>u32</td><td>u32</td><td>u32</td><td>u32</td><td>u32</td><td>u32</td><td>u32</td><td>u32</td><td>u32</td><td>u32</td><td>u32</td><td>u32</td><td>u32</td><td>u32</td><td>u32</td><td>u32</td><td>u32</td><td>u32</td><td>u32</td><td>u32</td><td>u32</td><td>u32</td><td>u32</td><td>u32</td><td>u32</td><td>u32</td><td>u32</td><td>u32</td><td>u32</td><td>u32</td><td>u32</td></tr></thead><tbody><tr><td>0</td><td>0</td><td>0</td><td>43324</td><td>10</td><td>0</td><td>0</td><td>0</td><td>0</td><td>0</td><td>0</td><td>0</td><td>0</td><td>0</td><td>0</td><td>0</td><td>0</td><td>0</td><td>0</td><td>0</td><td>0</td><td>0</td><td>0</td><td>0</td><td>0</td><td>0</td><td>0</td><td>1</td><td>0</td><td>0</td><td>0</td><td>0</td><td>0</td><td>0</td><td>0</td><td>0</td><td>0</td><td>0</td><td>0</td><td>0</td><td>0</td></tr></tbody></table></div>"
      ],
      "text/plain": [
       "shape: (1, 41)\n",
       "┌───────────┬───────────┬───────────┬───────────┬───┬───────────┬───────────┬───────────┬──────────┐\n",
       "│ age_upon_ ┆ animal_id ┆ date_of_b ┆ outcome_s ┆ … ┆ intake_ho ┆ intake_nu ┆ time_in_s ┆ time_in_ │\n",
       "│ outcome   ┆ _outcome  ┆ irth      ┆ ubtype    ┆   ┆ ur        ┆ mber      ┆ helter    ┆ shelter_ │\n",
       "│ ---       ┆ ---       ┆ ---       ┆ ---       ┆   ┆ ---       ┆ ---       ┆ ---       ┆ days     │\n",
       "│ u32       ┆ u32       ┆ u32       ┆ u32       ┆   ┆ u32       ┆ u32       ┆ u32       ┆ ---      │\n",
       "│           ┆           ┆           ┆           ┆   ┆           ┆           ┆           ┆ u32      │\n",
       "╞═══════════╪═══════════╪═══════════╪═══════════╪═══╪═══════════╪═══════════╪═══════════╪══════════╡\n",
       "│ 0         ┆ 0         ┆ 0         ┆ 43324     ┆ … ┆ 0         ┆ 0         ┆ 0         ┆ 0        │\n",
       "└───────────┴───────────┴───────────┴───────────┴───┴───────────┴───────────┴───────────┴──────────┘"
      ]
     },
     "execution_count": 39,
     "metadata": {},
     "output_type": "execute_result"
    }
   ],
   "source": [
    "df.null_count()"
   ]
  },
  {
   "cell_type": "code",
   "execution_count": 44,
   "metadata": {},
   "outputs": [],
   "source": [
    "# drop rows with null outcomes and sex\n",
    "df = df.drop_nulls(subset=[\"outcome_type\", \"sex_upon_intake\"])"
   ]
  },
  {
   "cell_type": "code",
   "execution_count": 46,
   "metadata": {},
   "outputs": [
    {
     "data": {
      "text/html": [
       "<div><style>\n",
       ".dataframe > thead > tr,\n",
       ".dataframe > tbody > tr {\n",
       "  text-align: right;\n",
       "  white-space: pre-wrap;\n",
       "}\n",
       "</style>\n",
       "<small>shape: (5, 24)</small><table border=\"1\" class=\"dataframe\"><thead><tr><th>animal_id_outcome</th><th>date_of_birth</th><th>outcome_subtype</th><th>outcome_type</th><th>sex_upon_outcome</th><th>age_upon_outcome_(days)</th><th>outcome_datetime</th><th>outcome_year</th><th>outcome_number</th><th>dob_month</th><th>animal_id_intake</th><th>animal_type</th><th>breed</th><th>color</th><th>found_location</th><th>intake_condition</th><th>intake_type</th><th>sex_upon_intake</th><th>count</th><th>age_upon_intake_(days)</th><th>intake_datetime</th><th>intake_year</th><th>intake_number</th><th>time_in_shelter_days</th></tr><tr><td>str</td><td>datetime[μs]</td><td>str</td><td>str</td><td>str</td><td>i64</td><td>datetime[μs]</td><td>i64</td><td>f64</td><td>i64</td><td>str</td><td>str</td><td>str</td><td>str</td><td>str</td><td>str</td><td>str</td><td>str</td><td>i64</td><td>i64</td><td>datetime[μs]</td><td>i64</td><td>f64</td><td>f64</td></tr></thead><tbody><tr><td>&quot;A006100&quot;</td><td>2007-07-09 00:00:00</td><td>null</td><td>&quot;Return to Owner&quot;</td><td>&quot;Neutered Male&quot;</td><td>3650</td><td>2017-12-07 14:07:00</td><td>2017</td><td>1.0</td><td>7</td><td>&quot;A006100&quot;</td><td>&quot;Dog&quot;</td><td>&quot;Spinone Italiano Mix&quot;</td><td>&quot;Yellow/White&quot;</td><td>&quot;Colony Creek And Hunters Trace…</td><td>&quot;Normal&quot;</td><td>&quot;Stray&quot;</td><td>&quot;Neutered Male&quot;</td><td>1</td><td>3650</td><td>2017-12-07 00:00:00</td><td>2017</td><td>1.0</td><td>0.588194</td></tr><tr><td>&quot;A006100&quot;</td><td>2007-07-09 00:00:00</td><td>null</td><td>&quot;Return to Owner&quot;</td><td>&quot;Neutered Male&quot;</td><td>2555</td><td>2014-12-20 16:35:00</td><td>2014</td><td>2.0</td><td>7</td><td>&quot;A006100&quot;</td><td>&quot;Dog&quot;</td><td>&quot;Spinone Italiano Mix&quot;</td><td>&quot;Yellow/White&quot;</td><td>&quot;8700 Research Blvd in Austin (…</td><td>&quot;Normal&quot;</td><td>&quot;Public Assist&quot;</td><td>&quot;Neutered Male&quot;</td><td>1</td><td>2555</td><td>2014-12-19 10:21:00</td><td>2014</td><td>2.0</td><td>1.259722</td></tr><tr><td>&quot;A006100&quot;</td><td>2007-07-09 00:00:00</td><td>null</td><td>&quot;Return to Owner&quot;</td><td>&quot;Neutered Male&quot;</td><td>2190</td><td>2014-03-08 17:10:00</td><td>2014</td><td>3.0</td><td>7</td><td>&quot;A006100&quot;</td><td>&quot;Dog&quot;</td><td>&quot;Spinone Italiano Mix&quot;</td><td>&quot;Yellow/White&quot;</td><td>&quot;8700 Research in Austin (TX)&quot;</td><td>&quot;Normal&quot;</td><td>&quot;Public Assist&quot;</td><td>&quot;Neutered Male&quot;</td><td>1</td><td>2190</td><td>2014-03-07 14:26:00</td><td>2014</td><td>3.0</td><td>1.113889</td></tr><tr><td>&quot;A047759&quot;</td><td>2004-04-02 00:00:00</td><td>&quot;Partner&quot;</td><td>&quot;Transfer&quot;</td><td>&quot;Neutered Male&quot;</td><td>3650</td><td>2014-04-07 15:12:00</td><td>2014</td><td>1.0</td><td>4</td><td>&quot;A047759&quot;</td><td>&quot;Dog&quot;</td><td>&quot;Dachshund&quot;</td><td>&quot;Tricolor&quot;</td><td>&quot;Austin (TX)&quot;</td><td>&quot;Normal&quot;</td><td>&quot;Owner Surrender&quot;</td><td>&quot;Neutered Male&quot;</td><td>1</td><td>3650</td><td>2014-04-02 15:55:00</td><td>2014</td><td>1.0</td><td>4.970139</td></tr><tr><td>&quot;A134067&quot;</td><td>1997-10-16 00:00:00</td><td>null</td><td>&quot;Return to Owner&quot;</td><td>&quot;Neutered Male&quot;</td><td>5840</td><td>2013-11-16 11:54:00</td><td>2013</td><td>1.0</td><td>10</td><td>&quot;A134067&quot;</td><td>&quot;Dog&quot;</td><td>&quot;Shetland Sheepdog&quot;</td><td>&quot;Brown/White&quot;</td><td>&quot;12034 Research Blvd in Austin …</td><td>&quot;Injured&quot;</td><td>&quot;Public Assist&quot;</td><td>&quot;Neutered Male&quot;</td><td>1</td><td>5840</td><td>2013-11-16 09:02:00</td><td>2013</td><td>1.0</td><td>0.119444</td></tr></tbody></table></div>"
      ],
      "text/plain": [
       "shape: (5, 24)\n",
       "┌───────────┬───────────┬───────────┬───────────┬───┬───────────┬───────────┬───────────┬──────────┐\n",
       "│ animal_id ┆ date_of_b ┆ outcome_s ┆ outcome_t ┆ … ┆ intake_da ┆ intake_ye ┆ intake_nu ┆ time_in_ │\n",
       "│ _outcome  ┆ irth      ┆ ubtype    ┆ ype       ┆   ┆ tetime    ┆ ar        ┆ mber      ┆ shelter_ │\n",
       "│ ---       ┆ ---       ┆ ---       ┆ ---       ┆   ┆ ---       ┆ ---       ┆ ---       ┆ days     │\n",
       "│ str       ┆ datetime[ ┆ str       ┆ str       ┆   ┆ datetime[ ┆ i64       ┆ f64       ┆ ---      │\n",
       "│           ┆ μs]       ┆           ┆           ┆   ┆ μs]       ┆           ┆           ┆ f64      │\n",
       "╞═══════════╪═══════════╪═══════════╪═══════════╪═══╪═══════════╪═══════════╪═══════════╪══════════╡\n",
       "│ A006100   ┆ 2007-07-0 ┆ null      ┆ Return to ┆ … ┆ 2017-12-0 ┆ 2017      ┆ 1.0       ┆ 0.588194 │\n",
       "│           ┆ 9         ┆           ┆ Owner     ┆   ┆ 7         ┆           ┆           ┆          │\n",
       "│           ┆ 00:00:00  ┆           ┆           ┆   ┆ 00:00:00  ┆           ┆           ┆          │\n",
       "│ A006100   ┆ 2007-07-0 ┆ null      ┆ Return to ┆ … ┆ 2014-12-1 ┆ 2014      ┆ 2.0       ┆ 1.259722 │\n",
       "│           ┆ 9         ┆           ┆ Owner     ┆   ┆ 9         ┆           ┆           ┆          │\n",
       "│           ┆ 00:00:00  ┆           ┆           ┆   ┆ 10:21:00  ┆           ┆           ┆          │\n",
       "│ A006100   ┆ 2007-07-0 ┆ null      ┆ Return to ┆ … ┆ 2014-03-0 ┆ 2014      ┆ 3.0       ┆ 1.113889 │\n",
       "│           ┆ 9         ┆           ┆ Owner     ┆   ┆ 7         ┆           ┆           ┆          │\n",
       "│           ┆ 00:00:00  ┆           ┆           ┆   ┆ 14:26:00  ┆           ┆           ┆          │\n",
       "│ A047759   ┆ 2004-04-0 ┆ Partner   ┆ Transfer  ┆ … ┆ 2014-04-0 ┆ 2014      ┆ 1.0       ┆ 4.970139 │\n",
       "│           ┆ 2         ┆           ┆           ┆   ┆ 2         ┆           ┆           ┆          │\n",
       "│           ┆ 00:00:00  ┆           ┆           ┆   ┆ 15:55:00  ┆           ┆           ┆          │\n",
       "│ A134067   ┆ 1997-10-1 ┆ null      ┆ Return to ┆ … ┆ 2013-11-1 ┆ 2013      ┆ 1.0       ┆ 0.119444 │\n",
       "│           ┆ 6         ┆           ┆ Owner     ┆   ┆ 6         ┆           ┆           ┆          │\n",
       "│           ┆ 00:00:00  ┆           ┆           ┆   ┆ 09:02:00  ┆           ┆           ┆          │\n",
       "└───────────┴───────────┴───────────┴───────────┴───┴───────────┴───────────┴───────────┴──────────┘"
      ]
     },
     "execution_count": 46,
     "metadata": {},
     "output_type": "execute_result"
    }
   ],
   "source": [
    "# dropping columns with redundant information, keeping days for all time columns\n",
    "clean_df = df.drop(\n",
    "    [\n",
    "        \"age_upon_outcome\",\n",
    "        \"age_upon_outcome_(years)\",\n",
    "        \"age_upon_outcome_age_group\",\n",
    "        \"outcome_month\",\n",
    "        \"outcome_monthyear\",\n",
    "        \"outcome_weekday\",\n",
    "        \"outcome_hour\",\n",
    "        \"dob_year\",\n",
    "        \"dob_monthyear\",\n",
    "        \"age_upon_intake\",\n",
    "        \"age_upon_intake_(years)\",\n",
    "        \"age_upon_intake_age_group\",\n",
    "        \"intake_month\",\n",
    "        \"intake_monthyear\",\n",
    "        \"intake_weekday\",\n",
    "        \"intake_hour\",\n",
    "        \"time_in_shelter\",\n",
    "    ]\n",
    ")\n",
    "\n",
    "# convert date columns to datetime type\n",
    "clean_df = clean_df.with_columns(\n",
    "    pl.col(\"date_of_birth\").str.to_datetime(),\n",
    "    pl.col(\"outcome_datetime\").str.to_datetime(),\n",
    "    pl.col(\"intake_datetime\").str.to_datetime(),\n",
    ")\n",
    "\n",
    "clean_df.head()"
   ]
  }
 ],
 "metadata": {
  "kernelspec": {
   "display_name": "ECE_174",
   "language": "python",
   "name": "python3"
  },
  "language_info": {
   "codemirror_mode": {
    "name": "ipython",
    "version": 3
   },
   "file_extension": ".py",
   "mimetype": "text/x-python",
   "name": "python",
   "nbconvert_exporter": "python",
   "pygments_lexer": "ipython3",
   "version": "3.10.13"
  }
 },
 "nbformat": 4,
 "nbformat_minor": 2
}
